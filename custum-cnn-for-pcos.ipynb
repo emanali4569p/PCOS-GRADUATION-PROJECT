{
 "cells": [
  {
   "cell_type": "code",
   "execution_count": 1,
   "id": "5a57afaf",
   "metadata": {
    "execution": {
     "iopub.execute_input": "2025-06-28T20:03:26.038439Z",
     "iopub.status.busy": "2025-06-28T20:03:26.038049Z",
     "iopub.status.idle": "2025-06-28T20:03:45.553436Z",
     "shell.execute_reply": "2025-06-28T20:03:45.552389Z"
    },
    "papermill": {
     "duration": 19.526053,
     "end_time": "2025-06-28T20:03:45.555423",
     "exception": false,
     "start_time": "2025-06-28T20:03:26.029370",
     "status": "completed"
    },
    "tags": []
   },
   "outputs": [],
   "source": [
    "import tensorflow as tf\n",
    "from tensorflow.keras.models import Model\n",
    "from tensorflow.keras.layers import Dense, GlobalAveragePooling2D, Dropout\n",
    "from tensorflow.keras.applications import MobileNetV2\n",
    "from tensorflow.keras.preprocessing.image import ImageDataGenerator\n",
    "from tensorflow.keras.optimizers import Adam\n",
    "import tensorflow as tf\n",
    "from tensorflow.keras import layers, models\n",
    "from tensorflow.keras.optimizers import Adam\n",
    "import numpy as np\n",
    "import os\n",
    "import shutil\n",
    "import random\n",
    "import pandas as pd\n",
    "import matplotlib.pyplot as plt\n",
    "from tensorflow.keras.models import Sequential\n",
    "from tensorflow.keras.preprocessing import image\n",
    "from tensorflow.keras.callbacks import ModelCheckpoint, EarlyStopping\n",
    "from tensorflow.keras.layers import Dense, Flatten, Conv2D, MaxPooling2D, Dropout, GlobalAveragePooling2D\n",
    "from tensorflow.keras.losses import BinaryCrossentropy\n",
    "from tensorflow.keras.applications import VGG16, ResNet50, EfficientNetB0\n",
    "import seaborn as sns"
   ]
  },
  {
   "cell_type": "code",
   "execution_count": 2,
   "id": "81835412",
   "metadata": {
    "execution": {
     "iopub.execute_input": "2025-06-28T20:03:45.568900Z",
     "iopub.status.busy": "2025-06-28T20:03:45.568260Z",
     "iopub.status.idle": "2025-06-28T20:03:45.575501Z",
     "shell.execute_reply": "2025-06-28T20:03:45.573792Z"
    },
    "papermill": {
     "duration": 0.015844,
     "end_time": "2025-06-28T20:03:45.577527",
     "exception": false,
     "start_time": "2025-06-28T20:03:45.561683",
     "status": "completed"
    },
    "tags": []
   },
   "outputs": [
    {
     "name": "stdout",
     "output_type": "stream",
     "text": [
      "TensorFlow Version: 2.17.1\n",
      "Keras Version: 3.5.0\n"
     ]
    }
   ],
   "source": [
    "import keras\n",
    "\n",
    "print(\"TensorFlow Version:\", tf.__version__)\n",
    "print(\"Keras Version:\", keras.__version__)\n"
   ]
  },
  {
   "cell_type": "code",
   "execution_count": 3,
   "id": "659161bf",
   "metadata": {
    "execution": {
     "iopub.execute_input": "2025-06-28T20:03:45.590481Z",
     "iopub.status.busy": "2025-06-28T20:03:45.590126Z",
     "iopub.status.idle": "2025-06-28T20:03:45.594838Z",
     "shell.execute_reply": "2025-06-28T20:03:45.593388Z"
    },
    "papermill": {
     "duration": 0.013601,
     "end_time": "2025-06-28T20:03:45.597181",
     "exception": false,
     "start_time": "2025-06-28T20:03:45.583580",
     "status": "completed"
    },
    "tags": []
   },
   "outputs": [],
   "source": [
    "# Paths\n",
    "dataset_1 = \"/kaggle/input/pcos-detection-using-ultrasound-images/data/train\"\n",
    "dataset_2= \"/kaggle/input/pcos-images/Dataset pcos\"\n"
   ]
  },
  {
   "cell_type": "code",
   "execution_count": 4,
   "id": "fca88c4a",
   "metadata": {
    "execution": {
     "iopub.execute_input": "2025-06-28T20:03:45.610779Z",
     "iopub.status.busy": "2025-06-28T20:03:45.610369Z",
     "iopub.status.idle": "2025-06-28T20:03:45.616607Z",
     "shell.execute_reply": "2025-06-28T20:03:45.615481Z"
    },
    "papermill": {
     "duration": 0.015591,
     "end_time": "2025-06-28T20:03:45.618637",
     "exception": false,
     "start_time": "2025-06-28T20:03:45.603046",
     "status": "completed"
    },
    "tags": []
   },
   "outputs": [],
   "source": [
    "# New combined dataset path\n",
    "combined_dir = \"/kaggle/working/dataset\"\n",
    "new_train_dir = \"/kaggle/working/train\"\n",
    "new_test_dir = \"/kaggle/working/test\"\n",
    "\n",
    "# Create directories\n",
    "os.makedirs(combined_dir, exist_ok=True)\n",
    "os.makedirs(new_train_dir, exist_ok=True)\n",
    "os.makedirs(new_test_dir, exist_ok=True)\n",
    "\n",
    "# Define the correct class mappings\n",
    "class_mapping = {\n",
    "    \"notinfected\": \"Normal\",\n",
    "    \"infected\": \"PCOS\",\n",
    "    \"Normal\": \"Normal\",\n",
    "    \"PCOS\": \"PCOS\"\n",
    "}"
   ]
  },
  {
   "cell_type": "code",
   "execution_count": 5,
   "id": "23135208",
   "metadata": {
    "execution": {
     "iopub.execute_input": "2025-06-28T20:03:45.631614Z",
     "iopub.status.busy": "2025-06-28T20:03:45.631280Z",
     "iopub.status.idle": "2025-06-28T20:03:56.039858Z",
     "shell.execute_reply": "2025-06-28T20:03:56.038576Z"
    },
    "papermill": {
     "duration": 10.417382,
     "end_time": "2025-06-28T20:03:56.041937",
     "exception": false,
     "start_time": "2025-06-28T20:03:45.624555",
     "status": "completed"
    },
    "tags": []
   },
   "outputs": [],
   "source": [
    "# Merge both datasets under the correct class names\n",
    "for dataset_path in [dataset_1, dataset_2]:\n",
    "    for class_name in os.listdir(dataset_path):\n",
    "        original_class_path = os.path.join(dataset_path, class_name)\n",
    "\n",
    "        # Skip if not a directory\n",
    "        if not os.path.isdir(original_class_path):\n",
    "            continue\n",
    "\n",
    "        # Get the correct class name (mapping infected → PCOS, notinfected → Normal)\n",
    "        new_class_name = class_mapping.get(class_name, None)\n",
    "        if new_class_name is None:\n",
    "            print(f\" Warning: Unknown class '{class_name}', skipping.\")\n",
    "            continue\n",
    "\n",
    "        # Create new class directory in combined dataset\n",
    "        combined_class_path = os.path.join(combined_dir, new_class_name)\n",
    "        os.makedirs(combined_class_path, exist_ok=True)\n",
    "\n",
    "        # Copy images\n",
    "        for img in os.listdir(original_class_path):\n",
    "            shutil.copy(os.path.join(original_class_path, img), os.path.join(combined_class_path, img))\n",
    "# split into train (90%) and test (10%)\n",
    "for class_name in [\"Normal\", \"PCOS\"]:\n",
    "    class_path = os.path.join(combined_dir, class_name)\n",
    "    images = os.listdir(class_path)\n",
    "    random.shuffle(images)\n",
    "\n",
    "    # Create train/test class folders\n",
    "    os.makedirs(os.path.join(new_train_dir, class_name), exist_ok=True)\n",
    "    os.makedirs(os.path.join(new_test_dir, class_name), exist_ok=True)\n",
    "\n",
    "    # Split 90% train, 10% test\n",
    "    split_index = int(0.9 * len(images))\n",
    "    train_images = images[:split_index]\n",
    "    test_images = images[split_index:]\n",
    "\n",
    "    # Copy images to new train and test directories\n",
    "    for img in train_images:\n",
    "        shutil.copy(os.path.join(class_path, img), os.path.join(new_train_dir, class_name, img))\n",
    "\n",
    "    for img in test_images:\n",
    "        shutil.copy(os.path.join(class_path, img), os.path.join(new_test_dir, class_name, img))"
   ]
  },
  {
   "cell_type": "code",
   "execution_count": 6,
   "id": "07cb74c6",
   "metadata": {
    "execution": {
     "iopub.execute_input": "2025-06-28T20:03:56.054584Z",
     "iopub.status.busy": "2025-06-28T20:03:56.054233Z",
     "iopub.status.idle": "2025-06-28T20:03:56.060276Z",
     "shell.execute_reply": "2025-06-28T20:03:56.058971Z"
    },
    "papermill": {
     "duration": 0.014309,
     "end_time": "2025-06-28T20:03:56.062017",
     "exception": false,
     "start_time": "2025-06-28T20:03:56.047708",
     "status": "completed"
    },
    "tags": []
   },
   "outputs": [
    {
     "name": "stdout",
     "output_type": "stream",
     "text": [
      " Train folder: /kaggle/working/train\n",
      " Test folder: /kaggle/working/test\n"
     ]
    }
   ],
   "source": [
    "print(f\" Train folder: {new_train_dir}\")\n",
    "print(f\" Test folder: {new_test_dir}\")"
   ]
  },
  {
   "cell_type": "code",
   "execution_count": 7,
   "id": "6f9a890d",
   "metadata": {
    "execution": {
     "iopub.execute_input": "2025-06-28T20:03:56.074791Z",
     "iopub.status.busy": "2025-06-28T20:03:56.074461Z",
     "iopub.status.idle": "2025-06-28T20:03:56.083695Z",
     "shell.execute_reply": "2025-06-28T20:03:56.082405Z"
    },
    "papermill": {
     "duration": 0.018027,
     "end_time": "2025-06-28T20:03:56.085980",
     "exception": false,
     "start_time": "2025-06-28T20:03:56.067953",
     "status": "completed"
    },
    "tags": []
   },
   "outputs": [
    {
     "name": "stdout",
     "output_type": "stream",
     "text": [
      "PCOS: 792 train images\n",
      "Normal: 1118 train images\n",
      "PCOS: 89 test images\n",
      "Normal: 125 test images\n"
     ]
    }
   ],
   "source": [
    "for class_name in os.listdir(new_train_dir):\n",
    "    print(f\"{class_name}: {len(os.listdir(os.path.join(new_train_dir, class_name)))} train images\")\n",
    "    \n",
    "for class_name in os.listdir(new_test_dir):\n",
    "    print(f\"{class_name}: {len(os.listdir(os.path.join(new_test_dir, class_name)))} test images\")\n"
   ]
  },
  {
   "cell_type": "code",
   "execution_count": 8,
   "id": "d79dd030",
   "metadata": {
    "execution": {
     "iopub.execute_input": "2025-06-28T20:03:56.099198Z",
     "iopub.status.busy": "2025-06-28T20:03:56.098790Z",
     "iopub.status.idle": "2025-06-28T20:03:56.103318Z",
     "shell.execute_reply": "2025-06-28T20:03:56.102241Z"
    },
    "papermill": {
     "duration": 0.013084,
     "end_time": "2025-06-28T20:03:56.105216",
     "exception": false,
     "start_time": "2025-06-28T20:03:56.092132",
     "status": "completed"
    },
    "tags": []
   },
   "outputs": [],
   "source": [
    "\n",
    "# Parameters\n",
    "batch_size = 128\n",
    "img_height = img_width =224"
   ]
  },
  {
   "cell_type": "code",
   "execution_count": 9,
   "id": "5bb26a83",
   "metadata": {
    "execution": {
     "iopub.execute_input": "2025-06-28T20:03:56.118300Z",
     "iopub.status.busy": "2025-06-28T20:03:56.117906Z",
     "iopub.status.idle": "2025-06-28T20:03:56.124521Z",
     "shell.execute_reply": "2025-06-28T20:03:56.123057Z"
    },
    "papermill": {
     "duration": 0.016,
     "end_time": "2025-06-28T20:03:56.127103",
     "exception": false,
     "start_time": "2025-06-28T20:03:56.111103",
     "status": "completed"
    },
    "tags": []
   },
   "outputs": [],
   "source": [
    "# Define data augmentation\n",
    "train_datagen = ImageDataGenerator(\n",
    "    rescale=1./255,\n",
    "    horizontal_flip=True,\n",
    "    rotation_range=20,\n",
    "    shear_range=0.2,\n",
    "    zoom_range=0.2,\n",
    "    width_shift_range=0.2,\n",
    "    height_shift_range=0.2,\n",
    "    validation_split=0.2\n",
    ")\n",
    "\n",
    "test_datagen = ImageDataGenerator(rescale=1./255)"
   ]
  },
  {
   "cell_type": "code",
   "execution_count": 10,
   "id": "17c09423",
   "metadata": {
    "execution": {
     "iopub.execute_input": "2025-06-28T20:03:56.140772Z",
     "iopub.status.busy": "2025-06-28T20:03:56.140417Z",
     "iopub.status.idle": "2025-06-28T20:03:56.191641Z",
     "shell.execute_reply": "2025-06-28T20:03:56.190479Z"
    },
    "papermill": {
     "duration": 0.06032,
     "end_time": "2025-06-28T20:03:56.193626",
     "exception": false,
     "start_time": "2025-06-28T20:03:56.133306",
     "status": "completed"
    },
    "tags": []
   },
   "outputs": [
    {
     "name": "stdout",
     "output_type": "stream",
     "text": [
      "Found 1529 images belonging to 2 classes.\n",
      "Found 214 images belonging to 2 classes.\n"
     ]
    }
   ],
   "source": [
    "\n",
    "train_generator = train_datagen.flow_from_directory(\n",
    "    new_train_dir, target_size=(224,224), batch_size=batch_size, class_mode='binary', subset=\"training\"\n",
    ",color_mode=\"grayscale\",seed=12)\n",
    "\n",
    "\n",
    "\n",
    "test_generator = test_datagen.flow_from_directory(\n",
    "   new_test_dir,\n",
    "    target_size=(224,224),\n",
    "    batch_size=128,\n",
    "    shuffle= False,\n",
    "    color_mode=\"grayscale\",\n",
    "    class_mode='binary'\n",
    ")"
   ]
  },
  {
   "cell_type": "code",
   "execution_count": null,
   "id": "cd9afa6c",
   "metadata": {
    "papermill": {
     "duration": 0.006292,
     "end_time": "2025-06-28T20:03:56.206209",
     "exception": false,
     "start_time": "2025-06-28T20:03:56.199917",
     "status": "completed"
    },
    "tags": []
   },
   "outputs": [],
   "source": []
  },
  {
   "cell_type": "code",
   "execution_count": 11,
   "id": "11042402",
   "metadata": {
    "execution": {
     "iopub.execute_input": "2025-06-28T20:03:56.219498Z",
     "iopub.status.busy": "2025-06-28T20:03:56.219152Z",
     "iopub.status.idle": "2025-06-28T20:03:56.641269Z",
     "shell.execute_reply": "2025-06-28T20:03:56.639956Z"
    },
    "papermill": {
     "duration": 0.431137,
     "end_time": "2025-06-28T20:03:56.643331",
     "exception": false,
     "start_time": "2025-06-28T20:03:56.212194",
     "status": "completed"
    },
    "tags": []
   },
   "outputs": [
    {
     "name": "stderr",
     "output_type": "stream",
     "text": [
      "/usr/local/lib/python3.10/dist-packages/keras/src/layers/convolutional/base_conv.py:107: UserWarning: Do not pass an `input_shape`/`input_dim` argument to a layer. When using Sequential models, prefer using an `Input(shape)` object as the first layer in the model instead.\n",
      "  super().__init__(activity_regularizer=activity_regularizer, **kwargs)\n"
     ]
    },
    {
     "data": {
      "text/html": [
       "<pre style=\"white-space:pre;overflow-x:auto;line-height:normal;font-family:Menlo,'DejaVu Sans Mono',consolas,'Courier New',monospace\"><span style=\"font-weight: bold\">Model: \"sequential\"</span>\n",
       "</pre>\n"
      ],
      "text/plain": [
       "\u001b[1mModel: \"sequential\"\u001b[0m\n"
      ]
     },
     "metadata": {},
     "output_type": "display_data"
    },
    {
     "data": {
      "text/html": [
       "<pre style=\"white-space:pre;overflow-x:auto;line-height:normal;font-family:Menlo,'DejaVu Sans Mono',consolas,'Courier New',monospace\">┏━━━━━━━━━━━━━━━━━━━━━━━━━━━━━━━━━━━━━━┳━━━━━━━━━━━━━━━━━━━━━━━━━━━━━┳━━━━━━━━━━━━━━━━━┓\n",
       "┃<span style=\"font-weight: bold\"> Layer (type)                         </span>┃<span style=\"font-weight: bold\"> Output Shape                </span>┃<span style=\"font-weight: bold\">         Param # </span>┃\n",
       "┡━━━━━━━━━━━━━━━━━━━━━━━━━━━━━━━━━━━━━━╇━━━━━━━━━━━━━━━━━━━━━━━━━━━━━╇━━━━━━━━━━━━━━━━━┩\n",
       "│ conv2d (<span style=\"color: #0087ff; text-decoration-color: #0087ff\">Conv2D</span>)                      │ (<span style=\"color: #00d7ff; text-decoration-color: #00d7ff\">None</span>, <span style=\"color: #00af00; text-decoration-color: #00af00\">224</span>, <span style=\"color: #00af00; text-decoration-color: #00af00\">224</span>, <span style=\"color: #00af00; text-decoration-color: #00af00\">32</span>)        │             <span style=\"color: #00af00; text-decoration-color: #00af00\">320</span> │\n",
       "├──────────────────────────────────────┼─────────────────────────────┼─────────────────┤\n",
       "│ conv2d_1 (<span style=\"color: #0087ff; text-decoration-color: #0087ff\">Conv2D</span>)                    │ (<span style=\"color: #00d7ff; text-decoration-color: #00d7ff\">None</span>, <span style=\"color: #00af00; text-decoration-color: #00af00\">224</span>, <span style=\"color: #00af00; text-decoration-color: #00af00\">224</span>, <span style=\"color: #00af00; text-decoration-color: #00af00\">32</span>)        │           <span style=\"color: #00af00; text-decoration-color: #00af00\">9,248</span> │\n",
       "├──────────────────────────────────────┼─────────────────────────────┼─────────────────┤\n",
       "│ max_pooling2d (<span style=\"color: #0087ff; text-decoration-color: #0087ff\">MaxPooling2D</span>)         │ (<span style=\"color: #00d7ff; text-decoration-color: #00d7ff\">None</span>, <span style=\"color: #00af00; text-decoration-color: #00af00\">112</span>, <span style=\"color: #00af00; text-decoration-color: #00af00\">112</span>, <span style=\"color: #00af00; text-decoration-color: #00af00\">32</span>)        │               <span style=\"color: #00af00; text-decoration-color: #00af00\">0</span> │\n",
       "├──────────────────────────────────────┼─────────────────────────────┼─────────────────┤\n",
       "│ conv2d_2 (<span style=\"color: #0087ff; text-decoration-color: #0087ff\">Conv2D</span>)                    │ (<span style=\"color: #00d7ff; text-decoration-color: #00d7ff\">None</span>, <span style=\"color: #00af00; text-decoration-color: #00af00\">112</span>, <span style=\"color: #00af00; text-decoration-color: #00af00\">112</span>, <span style=\"color: #00af00; text-decoration-color: #00af00\">64</span>)        │          <span style=\"color: #00af00; text-decoration-color: #00af00\">18,496</span> │\n",
       "├──────────────────────────────────────┼─────────────────────────────┼─────────────────┤\n",
       "│ conv2d_3 (<span style=\"color: #0087ff; text-decoration-color: #0087ff\">Conv2D</span>)                    │ (<span style=\"color: #00d7ff; text-decoration-color: #00d7ff\">None</span>, <span style=\"color: #00af00; text-decoration-color: #00af00\">112</span>, <span style=\"color: #00af00; text-decoration-color: #00af00\">112</span>, <span style=\"color: #00af00; text-decoration-color: #00af00\">64</span>)        │          <span style=\"color: #00af00; text-decoration-color: #00af00\">36,928</span> │\n",
       "├──────────────────────────────────────┼─────────────────────────────┼─────────────────┤\n",
       "│ max_pooling2d_1 (<span style=\"color: #0087ff; text-decoration-color: #0087ff\">MaxPooling2D</span>)       │ (<span style=\"color: #00d7ff; text-decoration-color: #00d7ff\">None</span>, <span style=\"color: #00af00; text-decoration-color: #00af00\">56</span>, <span style=\"color: #00af00; text-decoration-color: #00af00\">56</span>, <span style=\"color: #00af00; text-decoration-color: #00af00\">64</span>)          │               <span style=\"color: #00af00; text-decoration-color: #00af00\">0</span> │\n",
       "├──────────────────────────────────────┼─────────────────────────────┼─────────────────┤\n",
       "│ conv2d_4 (<span style=\"color: #0087ff; text-decoration-color: #0087ff\">Conv2D</span>)                    │ (<span style=\"color: #00d7ff; text-decoration-color: #00d7ff\">None</span>, <span style=\"color: #00af00; text-decoration-color: #00af00\">56</span>, <span style=\"color: #00af00; text-decoration-color: #00af00\">56</span>, <span style=\"color: #00af00; text-decoration-color: #00af00\">128</span>)         │          <span style=\"color: #00af00; text-decoration-color: #00af00\">73,856</span> │\n",
       "├──────────────────────────────────────┼─────────────────────────────┼─────────────────┤\n",
       "│ conv2d_5 (<span style=\"color: #0087ff; text-decoration-color: #0087ff\">Conv2D</span>)                    │ (<span style=\"color: #00d7ff; text-decoration-color: #00d7ff\">None</span>, <span style=\"color: #00af00; text-decoration-color: #00af00\">56</span>, <span style=\"color: #00af00; text-decoration-color: #00af00\">56</span>, <span style=\"color: #00af00; text-decoration-color: #00af00\">128</span>)         │         <span style=\"color: #00af00; text-decoration-color: #00af00\">147,584</span> │\n",
       "├──────────────────────────────────────┼─────────────────────────────┼─────────────────┤\n",
       "│ max_pooling2d_2 (<span style=\"color: #0087ff; text-decoration-color: #0087ff\">MaxPooling2D</span>)       │ (<span style=\"color: #00d7ff; text-decoration-color: #00d7ff\">None</span>, <span style=\"color: #00af00; text-decoration-color: #00af00\">28</span>, <span style=\"color: #00af00; text-decoration-color: #00af00\">28</span>, <span style=\"color: #00af00; text-decoration-color: #00af00\">128</span>)         │               <span style=\"color: #00af00; text-decoration-color: #00af00\">0</span> │\n",
       "├──────────────────────────────────────┼─────────────────────────────┼─────────────────┤\n",
       "│ conv2d_6 (<span style=\"color: #0087ff; text-decoration-color: #0087ff\">Conv2D</span>)                    │ (<span style=\"color: #00d7ff; text-decoration-color: #00d7ff\">None</span>, <span style=\"color: #00af00; text-decoration-color: #00af00\">28</span>, <span style=\"color: #00af00; text-decoration-color: #00af00\">28</span>, <span style=\"color: #00af00; text-decoration-color: #00af00\">256</span>)         │         <span style=\"color: #00af00; text-decoration-color: #00af00\">295,168</span> │\n",
       "├──────────────────────────────────────┼─────────────────────────────┼─────────────────┤\n",
       "│ conv2d_7 (<span style=\"color: #0087ff; text-decoration-color: #0087ff\">Conv2D</span>)                    │ (<span style=\"color: #00d7ff; text-decoration-color: #00d7ff\">None</span>, <span style=\"color: #00af00; text-decoration-color: #00af00\">28</span>, <span style=\"color: #00af00; text-decoration-color: #00af00\">28</span>, <span style=\"color: #00af00; text-decoration-color: #00af00\">256</span>)         │         <span style=\"color: #00af00; text-decoration-color: #00af00\">590,080</span> │\n",
       "├──────────────────────────────────────┼─────────────────────────────┼─────────────────┤\n",
       "│ max_pooling2d_3 (<span style=\"color: #0087ff; text-decoration-color: #0087ff\">MaxPooling2D</span>)       │ (<span style=\"color: #00d7ff; text-decoration-color: #00d7ff\">None</span>, <span style=\"color: #00af00; text-decoration-color: #00af00\">14</span>, <span style=\"color: #00af00; text-decoration-color: #00af00\">14</span>, <span style=\"color: #00af00; text-decoration-color: #00af00\">256</span>)         │               <span style=\"color: #00af00; text-decoration-color: #00af00\">0</span> │\n",
       "├──────────────────────────────────────┼─────────────────────────────┼─────────────────┤\n",
       "│ conv2d_8 (<span style=\"color: #0087ff; text-decoration-color: #0087ff\">Conv2D</span>)                    │ (<span style=\"color: #00d7ff; text-decoration-color: #00d7ff\">None</span>, <span style=\"color: #00af00; text-decoration-color: #00af00\">14</span>, <span style=\"color: #00af00; text-decoration-color: #00af00\">14</span>, <span style=\"color: #00af00; text-decoration-color: #00af00\">512</span>)         │       <span style=\"color: #00af00; text-decoration-color: #00af00\">1,180,160</span> │\n",
       "├──────────────────────────────────────┼─────────────────────────────┼─────────────────┤\n",
       "│ conv2d_9 (<span style=\"color: #0087ff; text-decoration-color: #0087ff\">Conv2D</span>)                    │ (<span style=\"color: #00d7ff; text-decoration-color: #00d7ff\">None</span>, <span style=\"color: #00af00; text-decoration-color: #00af00\">14</span>, <span style=\"color: #00af00; text-decoration-color: #00af00\">14</span>, <span style=\"color: #00af00; text-decoration-color: #00af00\">512</span>)         │       <span style=\"color: #00af00; text-decoration-color: #00af00\">2,359,808</span> │\n",
       "├──────────────────────────────────────┼─────────────────────────────┼─────────────────┤\n",
       "│ max_pooling2d_4 (<span style=\"color: #0087ff; text-decoration-color: #0087ff\">MaxPooling2D</span>)       │ (<span style=\"color: #00d7ff; text-decoration-color: #00d7ff\">None</span>, <span style=\"color: #00af00; text-decoration-color: #00af00\">7</span>, <span style=\"color: #00af00; text-decoration-color: #00af00\">7</span>, <span style=\"color: #00af00; text-decoration-color: #00af00\">512</span>)           │               <span style=\"color: #00af00; text-decoration-color: #00af00\">0</span> │\n",
       "├──────────────────────────────────────┼─────────────────────────────┼─────────────────┤\n",
       "│ flatten (<span style=\"color: #0087ff; text-decoration-color: #0087ff\">Flatten</span>)                    │ (<span style=\"color: #00d7ff; text-decoration-color: #00d7ff\">None</span>, <span style=\"color: #00af00; text-decoration-color: #00af00\">25088</span>)               │               <span style=\"color: #00af00; text-decoration-color: #00af00\">0</span> │\n",
       "├──────────────────────────────────────┼─────────────────────────────┼─────────────────┤\n",
       "│ dense (<span style=\"color: #0087ff; text-decoration-color: #0087ff\">Dense</span>)                        │ (<span style=\"color: #00d7ff; text-decoration-color: #00d7ff\">None</span>, <span style=\"color: #00af00; text-decoration-color: #00af00\">512</span>)                 │      <span style=\"color: #00af00; text-decoration-color: #00af00\">12,845,568</span> │\n",
       "├──────────────────────────────────────┼─────────────────────────────┼─────────────────┤\n",
       "│ dropout (<span style=\"color: #0087ff; text-decoration-color: #0087ff\">Dropout</span>)                    │ (<span style=\"color: #00d7ff; text-decoration-color: #00d7ff\">None</span>, <span style=\"color: #00af00; text-decoration-color: #00af00\">512</span>)                 │               <span style=\"color: #00af00; text-decoration-color: #00af00\">0</span> │\n",
       "├──────────────────────────────────────┼─────────────────────────────┼─────────────────┤\n",
       "│ dense_1 (<span style=\"color: #0087ff; text-decoration-color: #0087ff\">Dense</span>)                      │ (<span style=\"color: #00d7ff; text-decoration-color: #00d7ff\">None</span>, <span style=\"color: #00af00; text-decoration-color: #00af00\">256</span>)                 │         <span style=\"color: #00af00; text-decoration-color: #00af00\">131,328</span> │\n",
       "├──────────────────────────────────────┼─────────────────────────────┼─────────────────┤\n",
       "│ dropout_1 (<span style=\"color: #0087ff; text-decoration-color: #0087ff\">Dropout</span>)                  │ (<span style=\"color: #00d7ff; text-decoration-color: #00d7ff\">None</span>, <span style=\"color: #00af00; text-decoration-color: #00af00\">256</span>)                 │               <span style=\"color: #00af00; text-decoration-color: #00af00\">0</span> │\n",
       "├──────────────────────────────────────┼─────────────────────────────┼─────────────────┤\n",
       "│ dense_2 (<span style=\"color: #0087ff; text-decoration-color: #0087ff\">Dense</span>)                      │ (<span style=\"color: #00d7ff; text-decoration-color: #00d7ff\">None</span>, <span style=\"color: #00af00; text-decoration-color: #00af00\">1</span>)                   │             <span style=\"color: #00af00; text-decoration-color: #00af00\">257</span> │\n",
       "└──────────────────────────────────────┴─────────────────────────────┴─────────────────┘\n",
       "</pre>\n"
      ],
      "text/plain": [
       "┏━━━━━━━━━━━━━━━━━━━━━━━━━━━━━━━━━━━━━━┳━━━━━━━━━━━━━━━━━━━━━━━━━━━━━┳━━━━━━━━━━━━━━━━━┓\n",
       "┃\u001b[1m \u001b[0m\u001b[1mLayer (type)                        \u001b[0m\u001b[1m \u001b[0m┃\u001b[1m \u001b[0m\u001b[1mOutput Shape               \u001b[0m\u001b[1m \u001b[0m┃\u001b[1m \u001b[0m\u001b[1m        Param #\u001b[0m\u001b[1m \u001b[0m┃\n",
       "┡━━━━━━━━━━━━━━━━━━━━━━━━━━━━━━━━━━━━━━╇━━━━━━━━━━━━━━━━━━━━━━━━━━━━━╇━━━━━━━━━━━━━━━━━┩\n",
       "│ conv2d (\u001b[38;5;33mConv2D\u001b[0m)                      │ (\u001b[38;5;45mNone\u001b[0m, \u001b[38;5;34m224\u001b[0m, \u001b[38;5;34m224\u001b[0m, \u001b[38;5;34m32\u001b[0m)        │             \u001b[38;5;34m320\u001b[0m │\n",
       "├──────────────────────────────────────┼─────────────────────────────┼─────────────────┤\n",
       "│ conv2d_1 (\u001b[38;5;33mConv2D\u001b[0m)                    │ (\u001b[38;5;45mNone\u001b[0m, \u001b[38;5;34m224\u001b[0m, \u001b[38;5;34m224\u001b[0m, \u001b[38;5;34m32\u001b[0m)        │           \u001b[38;5;34m9,248\u001b[0m │\n",
       "├──────────────────────────────────────┼─────────────────────────────┼─────────────────┤\n",
       "│ max_pooling2d (\u001b[38;5;33mMaxPooling2D\u001b[0m)         │ (\u001b[38;5;45mNone\u001b[0m, \u001b[38;5;34m112\u001b[0m, \u001b[38;5;34m112\u001b[0m, \u001b[38;5;34m32\u001b[0m)        │               \u001b[38;5;34m0\u001b[0m │\n",
       "├──────────────────────────────────────┼─────────────────────────────┼─────────────────┤\n",
       "│ conv2d_2 (\u001b[38;5;33mConv2D\u001b[0m)                    │ (\u001b[38;5;45mNone\u001b[0m, \u001b[38;5;34m112\u001b[0m, \u001b[38;5;34m112\u001b[0m, \u001b[38;5;34m64\u001b[0m)        │          \u001b[38;5;34m18,496\u001b[0m │\n",
       "├──────────────────────────────────────┼─────────────────────────────┼─────────────────┤\n",
       "│ conv2d_3 (\u001b[38;5;33mConv2D\u001b[0m)                    │ (\u001b[38;5;45mNone\u001b[0m, \u001b[38;5;34m112\u001b[0m, \u001b[38;5;34m112\u001b[0m, \u001b[38;5;34m64\u001b[0m)        │          \u001b[38;5;34m36,928\u001b[0m │\n",
       "├──────────────────────────────────────┼─────────────────────────────┼─────────────────┤\n",
       "│ max_pooling2d_1 (\u001b[38;5;33mMaxPooling2D\u001b[0m)       │ (\u001b[38;5;45mNone\u001b[0m, \u001b[38;5;34m56\u001b[0m, \u001b[38;5;34m56\u001b[0m, \u001b[38;5;34m64\u001b[0m)          │               \u001b[38;5;34m0\u001b[0m │\n",
       "├──────────────────────────────────────┼─────────────────────────────┼─────────────────┤\n",
       "│ conv2d_4 (\u001b[38;5;33mConv2D\u001b[0m)                    │ (\u001b[38;5;45mNone\u001b[0m, \u001b[38;5;34m56\u001b[0m, \u001b[38;5;34m56\u001b[0m, \u001b[38;5;34m128\u001b[0m)         │          \u001b[38;5;34m73,856\u001b[0m │\n",
       "├──────────────────────────────────────┼─────────────────────────────┼─────────────────┤\n",
       "│ conv2d_5 (\u001b[38;5;33mConv2D\u001b[0m)                    │ (\u001b[38;5;45mNone\u001b[0m, \u001b[38;5;34m56\u001b[0m, \u001b[38;5;34m56\u001b[0m, \u001b[38;5;34m128\u001b[0m)         │         \u001b[38;5;34m147,584\u001b[0m │\n",
       "├──────────────────────────────────────┼─────────────────────────────┼─────────────────┤\n",
       "│ max_pooling2d_2 (\u001b[38;5;33mMaxPooling2D\u001b[0m)       │ (\u001b[38;5;45mNone\u001b[0m, \u001b[38;5;34m28\u001b[0m, \u001b[38;5;34m28\u001b[0m, \u001b[38;5;34m128\u001b[0m)         │               \u001b[38;5;34m0\u001b[0m │\n",
       "├──────────────────────────────────────┼─────────────────────────────┼─────────────────┤\n",
       "│ conv2d_6 (\u001b[38;5;33mConv2D\u001b[0m)                    │ (\u001b[38;5;45mNone\u001b[0m, \u001b[38;5;34m28\u001b[0m, \u001b[38;5;34m28\u001b[0m, \u001b[38;5;34m256\u001b[0m)         │         \u001b[38;5;34m295,168\u001b[0m │\n",
       "├──────────────────────────────────────┼─────────────────────────────┼─────────────────┤\n",
       "│ conv2d_7 (\u001b[38;5;33mConv2D\u001b[0m)                    │ (\u001b[38;5;45mNone\u001b[0m, \u001b[38;5;34m28\u001b[0m, \u001b[38;5;34m28\u001b[0m, \u001b[38;5;34m256\u001b[0m)         │         \u001b[38;5;34m590,080\u001b[0m │\n",
       "├──────────────────────────────────────┼─────────────────────────────┼─────────────────┤\n",
       "│ max_pooling2d_3 (\u001b[38;5;33mMaxPooling2D\u001b[0m)       │ (\u001b[38;5;45mNone\u001b[0m, \u001b[38;5;34m14\u001b[0m, \u001b[38;5;34m14\u001b[0m, \u001b[38;5;34m256\u001b[0m)         │               \u001b[38;5;34m0\u001b[0m │\n",
       "├──────────────────────────────────────┼─────────────────────────────┼─────────────────┤\n",
       "│ conv2d_8 (\u001b[38;5;33mConv2D\u001b[0m)                    │ (\u001b[38;5;45mNone\u001b[0m, \u001b[38;5;34m14\u001b[0m, \u001b[38;5;34m14\u001b[0m, \u001b[38;5;34m512\u001b[0m)         │       \u001b[38;5;34m1,180,160\u001b[0m │\n",
       "├──────────────────────────────────────┼─────────────────────────────┼─────────────────┤\n",
       "│ conv2d_9 (\u001b[38;5;33mConv2D\u001b[0m)                    │ (\u001b[38;5;45mNone\u001b[0m, \u001b[38;5;34m14\u001b[0m, \u001b[38;5;34m14\u001b[0m, \u001b[38;5;34m512\u001b[0m)         │       \u001b[38;5;34m2,359,808\u001b[0m │\n",
       "├──────────────────────────────────────┼─────────────────────────────┼─────────────────┤\n",
       "│ max_pooling2d_4 (\u001b[38;5;33mMaxPooling2D\u001b[0m)       │ (\u001b[38;5;45mNone\u001b[0m, \u001b[38;5;34m7\u001b[0m, \u001b[38;5;34m7\u001b[0m, \u001b[38;5;34m512\u001b[0m)           │               \u001b[38;5;34m0\u001b[0m │\n",
       "├──────────────────────────────────────┼─────────────────────────────┼─────────────────┤\n",
       "│ flatten (\u001b[38;5;33mFlatten\u001b[0m)                    │ (\u001b[38;5;45mNone\u001b[0m, \u001b[38;5;34m25088\u001b[0m)               │               \u001b[38;5;34m0\u001b[0m │\n",
       "├──────────────────────────────────────┼─────────────────────────────┼─────────────────┤\n",
       "│ dense (\u001b[38;5;33mDense\u001b[0m)                        │ (\u001b[38;5;45mNone\u001b[0m, \u001b[38;5;34m512\u001b[0m)                 │      \u001b[38;5;34m12,845,568\u001b[0m │\n",
       "├──────────────────────────────────────┼─────────────────────────────┼─────────────────┤\n",
       "│ dropout (\u001b[38;5;33mDropout\u001b[0m)                    │ (\u001b[38;5;45mNone\u001b[0m, \u001b[38;5;34m512\u001b[0m)                 │               \u001b[38;5;34m0\u001b[0m │\n",
       "├──────────────────────────────────────┼─────────────────────────────┼─────────────────┤\n",
       "│ dense_1 (\u001b[38;5;33mDense\u001b[0m)                      │ (\u001b[38;5;45mNone\u001b[0m, \u001b[38;5;34m256\u001b[0m)                 │         \u001b[38;5;34m131,328\u001b[0m │\n",
       "├──────────────────────────────────────┼─────────────────────────────┼─────────────────┤\n",
       "│ dropout_1 (\u001b[38;5;33mDropout\u001b[0m)                  │ (\u001b[38;5;45mNone\u001b[0m, \u001b[38;5;34m256\u001b[0m)                 │               \u001b[38;5;34m0\u001b[0m │\n",
       "├──────────────────────────────────────┼─────────────────────────────┼─────────────────┤\n",
       "│ dense_2 (\u001b[38;5;33mDense\u001b[0m)                      │ (\u001b[38;5;45mNone\u001b[0m, \u001b[38;5;34m1\u001b[0m)                   │             \u001b[38;5;34m257\u001b[0m │\n",
       "└──────────────────────────────────────┴─────────────────────────────┴─────────────────┘\n"
      ]
     },
     "metadata": {},
     "output_type": "display_data"
    },
    {
     "data": {
      "text/html": [
       "<pre style=\"white-space:pre;overflow-x:auto;line-height:normal;font-family:Menlo,'DejaVu Sans Mono',consolas,'Courier New',monospace\"><span style=\"font-weight: bold\"> Total params: </span><span style=\"color: #00af00; text-decoration-color: #00af00\">17,688,801</span> (67.48 MB)\n",
       "</pre>\n"
      ],
      "text/plain": [
       "\u001b[1m Total params: \u001b[0m\u001b[38;5;34m17,688,801\u001b[0m (67.48 MB)\n"
      ]
     },
     "metadata": {},
     "output_type": "display_data"
    },
    {
     "data": {
      "text/html": [
       "<pre style=\"white-space:pre;overflow-x:auto;line-height:normal;font-family:Menlo,'DejaVu Sans Mono',consolas,'Courier New',monospace\"><span style=\"font-weight: bold\"> Trainable params: </span><span style=\"color: #00af00; text-decoration-color: #00af00\">17,688,801</span> (67.48 MB)\n",
       "</pre>\n"
      ],
      "text/plain": [
       "\u001b[1m Trainable params: \u001b[0m\u001b[38;5;34m17,688,801\u001b[0m (67.48 MB)\n"
      ]
     },
     "metadata": {},
     "output_type": "display_data"
    },
    {
     "data": {
      "text/html": [
       "<pre style=\"white-space:pre;overflow-x:auto;line-height:normal;font-family:Menlo,'DejaVu Sans Mono',consolas,'Courier New',monospace\"><span style=\"font-weight: bold\"> Non-trainable params: </span><span style=\"color: #00af00; text-decoration-color: #00af00\">0</span> (0.00 B)\n",
       "</pre>\n"
      ],
      "text/plain": [
       "\u001b[1m Non-trainable params: \u001b[0m\u001b[38;5;34m0\u001b[0m (0.00 B)\n"
      ]
     },
     "metadata": {},
     "output_type": "display_data"
    }
   ],
   "source": [
    "from tensorflow.keras import models, layers\n",
    "from tensorflow.keras.optimizers import Adam\n",
    "\n",
    "def create_model():\n",
    "    model = models.Sequential([\n",
    "        # First Conv Block\n",
    "        layers.Conv2D(32, (3, 3), activation='relu', padding='same', input_shape=(224, 224, 1)),\n",
    "        layers.Conv2D(32, (3, 3), activation='relu', padding='same'),\n",
    "        layers.MaxPooling2D((2, 2)),\n",
    "\n",
    "        # Second Conv Block\n",
    "        layers.Conv2D(64, (3, 3), activation='relu', padding='same'),\n",
    "        layers.Conv2D(64, (3, 3), activation='relu', padding='same'),\n",
    "        layers.MaxPooling2D((2, 2)),\n",
    "\n",
    "        # Third Conv Block\n",
    "        layers.Conv2D(128, (3, 3), activation='relu', padding='same'),\n",
    "        layers.Conv2D(128, (3, 3), activation='relu', padding='same'),\n",
    "        layers.MaxPooling2D((2, 2)),\n",
    "\n",
    "        # Fourth Conv Block\n",
    "        layers.Conv2D(256, (3, 3), activation='relu', padding='same'),\n",
    "        layers.Conv2D(256, (3, 3), activation='relu', padding='same'),\n",
    "        layers.MaxPooling2D((2, 2)),\n",
    "\n",
    "        # Fifth Conv Block\n",
    "        layers.Conv2D(512, (3, 3), activation='relu', padding='same'),\n",
    "        layers.Conv2D(512, (3, 3), activation='relu', padding='same'),\n",
    "        layers.MaxPooling2D((2, 2)),\n",
    "\n",
    "        # Fully Connected Layers\n",
    "        layers.Flatten(),\n",
    "        layers.Dense(512, activation='relu'),\n",
    "        layers.Dropout(0.5),\n",
    "        layers.Dense(256, activation='relu'),\n",
    "        layers.Dropout(0.3),\n",
    "        layers.Dense(1, activation='sigmoid')  # Binary classification (Normal vs PCOS)\n",
    "    ])\n",
    "\n",
    "    # Compile model\n",
    "    model.compile(optimizer=Adam(learning_rate=1e-4), loss='binary_crossentropy', metrics=['accuracy'])\n",
    "    \n",
    "    return model\n",
    "\n",
    "# Create the model\n",
    "model = create_model()\n",
    "\n",
    "# Model summary\n",
    "model.summary()\n"
   ]
  },
  {
   "cell_type": "code",
   "execution_count": 12,
   "id": "beed4bc2",
   "metadata": {
    "execution": {
     "iopub.execute_input": "2025-06-28T20:03:56.659282Z",
     "iopub.status.busy": "2025-06-28T20:03:56.658938Z",
     "iopub.status.idle": "2025-06-28T22:07:30.425736Z",
     "shell.execute_reply": "2025-06-28T22:07:30.424484Z"
    },
    "papermill": {
     "duration": 7413.776936,
     "end_time": "2025-06-28T22:07:30.427796",
     "exception": false,
     "start_time": "2025-06-28T20:03:56.650860",
     "status": "completed"
    },
    "tags": []
   },
   "outputs": [
    {
     "name": "stdout",
     "output_type": "stream",
     "text": [
      "Epoch 1/20\n"
     ]
    },
    {
     "name": "stderr",
     "output_type": "stream",
     "text": [
      "/usr/local/lib/python3.10/dist-packages/keras/src/trainers/data_adapters/py_dataset_adapter.py:122: UserWarning: Your `PyDataset` class should call `super().__init__(**kwargs)` in its constructor. `**kwargs` can include `workers`, `use_multiprocessing`, `max_queue_size`. Do not pass these arguments to `fit()`, as they will be ignored.\n",
      "  self._warn_if_super_not_called()\n"
     ]
    },
    {
     "name": "stdout",
     "output_type": "stream",
     "text": [
      "\u001b[1m12/12\u001b[0m \u001b[32m━━━━━━━━━━━━━━━━━━━━\u001b[0m\u001b[37m\u001b[0m \u001b[1m378s\u001b[0m 31s/step - accuracy: 0.6457 - loss: 0.6801\n",
      "Epoch 2/20\n",
      "\u001b[1m12/12\u001b[0m \u001b[32m━━━━━━━━━━━━━━━━━━━━\u001b[0m\u001b[37m\u001b[0m \u001b[1m374s\u001b[0m 30s/step - accuracy: 0.7607 - loss: 0.5114\n",
      "Epoch 3/20\n",
      "\u001b[1m12/12\u001b[0m \u001b[32m━━━━━━━━━━━━━━━━━━━━\u001b[0m\u001b[37m\u001b[0m \u001b[1m366s\u001b[0m 30s/step - accuracy: 0.8193 - loss: 0.4026\n",
      "Epoch 4/20\n",
      "\u001b[1m12/12\u001b[0m \u001b[32m━━━━━━━━━━━━━━━━━━━━\u001b[0m\u001b[37m\u001b[0m \u001b[1m366s\u001b[0m 30s/step - accuracy: 0.9040 - loss: 0.2613\n",
      "Epoch 5/20\n",
      "\u001b[1m12/12\u001b[0m \u001b[32m━━━━━━━━━━━━━━━━━━━━\u001b[0m\u001b[37m\u001b[0m \u001b[1m370s\u001b[0m 30s/step - accuracy: 0.9404 - loss: 0.1385\n",
      "Epoch 6/20\n",
      "\u001b[1m12/12\u001b[0m \u001b[32m━━━━━━━━━━━━━━━━━━━━\u001b[0m\u001b[37m\u001b[0m \u001b[1m368s\u001b[0m 30s/step - accuracy: 0.9374 - loss: 0.1793\n",
      "Epoch 7/20\n",
      "\u001b[1m12/12\u001b[0m \u001b[32m━━━━━━━━━━━━━━━━━━━━\u001b[0m\u001b[37m\u001b[0m \u001b[1m364s\u001b[0m 30s/step - accuracy: 0.9753 - loss: 0.0646\n",
      "Epoch 8/20\n",
      "\u001b[1m12/12\u001b[0m \u001b[32m━━━━━━━━━━━━━━━━━━━━\u001b[0m\u001b[37m\u001b[0m \u001b[1m384s\u001b[0m 30s/step - accuracy: 0.9896 - loss: 0.0320\n",
      "Epoch 9/20\n",
      "\u001b[1m12/12\u001b[0m \u001b[32m━━━━━━━━━━━━━━━━━━━━\u001b[0m\u001b[37m\u001b[0m \u001b[1m367s\u001b[0m 30s/step - accuracy: 0.9918 - loss: 0.0276\n",
      "Epoch 10/20\n",
      "\u001b[1m12/12\u001b[0m \u001b[32m━━━━━━━━━━━━━━━━━━━━\u001b[0m\u001b[37m\u001b[0m \u001b[1m376s\u001b[0m 31s/step - accuracy: 0.9881 - loss: 0.0296\n",
      "Epoch 11/20\n",
      "\u001b[1m12/12\u001b[0m \u001b[32m━━━━━━━━━━━━━━━━━━━━\u001b[0m\u001b[37m\u001b[0m \u001b[1m371s\u001b[0m 30s/step - accuracy: 0.9956 - loss: 0.0207\n",
      "Epoch 12/20\n",
      "\u001b[1m12/12\u001b[0m \u001b[32m━━━━━━━━━━━━━━━━━━━━\u001b[0m\u001b[37m\u001b[0m \u001b[1m376s\u001b[0m 31s/step - accuracy: 0.9961 - loss: 0.0114\n",
      "Epoch 13/20\n",
      "\u001b[1m12/12\u001b[0m \u001b[32m━━━━━━━━━━━━━━━━━━━━\u001b[0m\u001b[37m\u001b[0m \u001b[1m372s\u001b[0m 30s/step - accuracy: 0.9958 - loss: 0.0181\n",
      "Epoch 14/20\n",
      "\u001b[1m12/12\u001b[0m \u001b[32m━━━━━━━━━━━━━━━━━━━━\u001b[0m\u001b[37m\u001b[0m \u001b[1m367s\u001b[0m 30s/step - accuracy: 0.9996 - loss: 0.0066\n",
      "Epoch 15/20\n",
      "\u001b[1m12/12\u001b[0m \u001b[32m━━━━━━━━━━━━━━━━━━━━\u001b[0m\u001b[37m\u001b[0m \u001b[1m367s\u001b[0m 30s/step - accuracy: 0.9986 - loss: 0.0080\n",
      "Epoch 16/20\n",
      "\u001b[1m12/12\u001b[0m \u001b[32m━━━━━━━━━━━━━━━━━━━━\u001b[0m\u001b[37m\u001b[0m \u001b[1m368s\u001b[0m 30s/step - accuracy: 0.9983 - loss: 0.0073\n",
      "Epoch 17/20\n",
      "\u001b[1m12/12\u001b[0m \u001b[32m━━━━━━━━━━━━━━━━━━━━\u001b[0m\u001b[37m\u001b[0m \u001b[1m365s\u001b[0m 30s/step - accuracy: 0.9973 - loss: 0.0076\n",
      "Epoch 18/20\n",
      "\u001b[1m12/12\u001b[0m \u001b[32m━━━━━━━━━━━━━━━━━━━━\u001b[0m\u001b[37m\u001b[0m \u001b[1m366s\u001b[0m 30s/step - accuracy: 0.9982 - loss: 0.0060\n",
      "Epoch 19/20\n",
      "\u001b[1m12/12\u001b[0m \u001b[32m━━━━━━━━━━━━━━━━━━━━\u001b[0m\u001b[37m\u001b[0m \u001b[1m366s\u001b[0m 30s/step - accuracy: 0.9967 - loss: 0.0089\n",
      "Epoch 20/20\n",
      "\u001b[1m12/12\u001b[0m \u001b[32m━━━━━━━━━━━━━━━━━━━━\u001b[0m\u001b[37m\u001b[0m \u001b[1m368s\u001b[0m 30s/step - accuracy: 0.9977 - loss: 0.0038\n"
     ]
    }
   ],
   "source": [
    "model = create_model()\n",
    "\n",
    "# Train model\n",
    "history = model.fit(\n",
    "    train_generator,  \n",
    "    epochs=20,\n",
    "    verbose=1\n",
    ")\n"
   ]
  },
  {
   "cell_type": "code",
   "execution_count": 13,
   "id": "44c5691c",
   "metadata": {
    "execution": {
     "iopub.execute_input": "2025-06-28T22:07:30.476525Z",
     "iopub.status.busy": "2025-06-28T22:07:30.476110Z",
     "iopub.status.idle": "2025-06-28T22:07:30.974063Z",
     "shell.execute_reply": "2025-06-28T22:07:30.972545Z"
    },
    "papermill": {
     "duration": 0.524034,
     "end_time": "2025-06-28T22:07:30.976016",
     "exception": false,
     "start_time": "2025-06-28T22:07:30.451982",
     "status": "completed"
    },
    "tags": []
   },
   "outputs": [],
   "source": [
    "\n",
    "\n",
    "from tensorflow.keras.callbacks import EarlyStopping, ModelCheckpoint\n",
    "from sklearn.metrics import classification_report, confusion_matrix"
   ]
  },
  {
   "cell_type": "code",
   "execution_count": 14,
   "id": "936f8560",
   "metadata": {
    "execution": {
     "iopub.execute_input": "2025-06-28T22:07:31.027741Z",
     "iopub.status.busy": "2025-06-28T22:07:31.027369Z",
     "iopub.status.idle": "2025-06-28T22:07:31.470430Z",
     "shell.execute_reply": "2025-06-28T22:07:31.469179Z"
    },
    "papermill": {
     "duration": 0.470228,
     "end_time": "2025-06-28T22:07:31.472389",
     "exception": false,
     "start_time": "2025-06-28T22:07:31.002161",
     "status": "completed"
    },
    "tags": []
   },
   "outputs": [
    {
     "data": {
      "image/png": "[encoded data removed]",
      "text/plain": [
       "<Figure size 1000x400 with 2 Axes>"
      ]
     },
     "metadata": {},
     "output_type": "display_data"
    }
   ],
   "source": [
    "\n",
    "# Create a figure with two subplots\n",
    "plt.figure(figsize=(10, 4))\n",
    "\n",
    "# Training Accuracy Plot\n",
    "plt.subplot(1, 2, 1)\n",
    "plt.plot(history.history[\"accuracy\"], label=\"Train Accuracy\", marker='o', color='b')\n",
    "plt.xlabel(\"Epochs\")\n",
    "plt.ylabel(\"Accuracy\")\n",
    "plt.legend()\n",
    "plt.title(\"Training Accuracy\")\n",
    "plt.grid(True)\n",
    "\n",
    "# Training Loss Plot\n",
    "plt.subplot(1, 2, 2)\n",
    "plt.plot(history.history[\"loss\"], label=\"Train Loss\", marker='s', color='r')\n",
    "plt.xlabel(\"Epochs\")\n",
    "plt.ylabel(\"Loss\")\n",
    "plt.legend()\n",
    "plt.title(\"Training Loss\")\n",
    "plt.grid(True)\n",
    "\n",
    "plt.show()\n"
   ]
  },
  {
   "cell_type": "code",
   "execution_count": null,
   "id": "f7971f9c",
   "metadata": {
    "papermill": {
     "duration": 0.024051,
     "end_time": "2025-06-28T22:07:31.520421",
     "exception": false,
     "start_time": "2025-06-28T22:07:31.496370",
     "status": "completed"
    },
    "tags": []
   },
   "outputs": [],
   "source": []
  },
  {
   "cell_type": "code",
   "execution_count": 15,
   "id": "a2557174",
   "metadata": {
    "execution": {
     "iopub.execute_input": "2025-06-28T22:07:31.569759Z",
     "iopub.status.busy": "2025-06-28T22:07:31.569194Z",
     "iopub.status.idle": "2025-06-28T22:08:02.570201Z",
     "shell.execute_reply": "2025-06-28T22:08:02.569066Z"
    },
    "papermill": {
     "duration": 31.034984,
     "end_time": "2025-06-28T22:08:02.579441",
     "exception": false,
     "start_time": "2025-06-28T22:07:31.544457",
     "status": "completed"
    },
    "tags": []
   },
   "outputs": [
    {
     "name": "stderr",
     "output_type": "stream",
     "text": [
      "/usr/local/lib/python3.10/dist-packages/keras/src/trainers/data_adapters/py_dataset_adapter.py:122: UserWarning: Your `PyDataset` class should call `super().__init__(**kwargs)` in its constructor. `**kwargs` can include `workers`, `use_multiprocessing`, `max_queue_size`. Do not pass these arguments to `fit()`, as they will be ignored.\n",
      "  self._warn_if_super_not_called()\n"
     ]
    },
    {
     "name": "stdout",
     "output_type": "stream",
     "text": [
      "\u001b[1m2/2\u001b[0m \u001b[32m━━━━━━━━━━━━━━━━━━━━\u001b[0m\u001b[37m\u001b[0m \u001b[1m15s\u001b[0m 6s/step - accuracy: 0.9912 - loss: 0.0791\n",
      "Test Loss: 0.0697, Test Accuracy: 0.9907\n",
      "\u001b[1m2/2\u001b[0m \u001b[32m━━━━━━━━━━━━━━━━━━━━\u001b[0m\u001b[37m\u001b[0m \u001b[1m15s\u001b[0m 6s/step\n"
     ]
    }
   ],
   "source": [
    "# Evaluate model teat 1\n",
    "test_loss, test_acc = model.evaluate(test_generator)\n",
    "print(f\"Test Loss: {test_loss:.4f}, Test Accuracy: {test_acc:.4f}\")\n",
    "\n",
    "# Make Predictions\n",
    "y_true = test_generator.classes\n",
    "y_pred_probs = model.predict(test_generator)\n",
    "y_pred = (y_pred_probs > 0.5).astype(int)\n"
   ]
  },
  {
   "cell_type": "code",
   "execution_count": 16,
   "id": "be784741",
   "metadata": {
    "execution": {
     "iopub.execute_input": "2025-06-28T22:08:02.629095Z",
     "iopub.status.busy": "2025-06-28T22:08:02.628621Z",
     "iopub.status.idle": "2025-06-28T22:08:02.642457Z",
     "shell.execute_reply": "2025-06-28T22:08:02.641237Z"
    },
    "papermill": {
     "duration": 0.040597,
     "end_time": "2025-06-28T22:08:02.644314",
     "exception": false,
     "start_time": "2025-06-28T22:08:02.603717",
     "status": "completed"
    },
    "tags": []
   },
   "outputs": [
    {
     "name": "stdout",
     "output_type": "stream",
     "text": [
      "Classification Report:\n",
      "               precision    recall  f1-score   support\n",
      "\n",
      "           0       0.98      1.00      0.99       125\n",
      "           1       1.00      0.98      0.99        89\n",
      "\n",
      "    accuracy                           0.99       214\n",
      "   macro avg       0.99      0.99      0.99       214\n",
      "weighted avg       0.99      0.99      0.99       214\n",
      "\n"
     ]
    }
   ],
   "source": [
    "# Classification Report\n",
    "print(\"Classification Report:\\n\", classification_report(y_true, y_pred))"
   ]
  },
  {
   "cell_type": "code",
   "execution_count": 17,
   "id": "6d50456d",
   "metadata": {
    "execution": {
     "iopub.execute_input": "2025-06-28T22:08:02.694138Z",
     "iopub.status.busy": "2025-06-28T22:08:02.693697Z",
     "iopub.status.idle": "2025-06-28T22:08:02.914389Z",
     "shell.execute_reply": "2025-06-28T22:08:02.913339Z"
    },
    "papermill": {
     "duration": 0.247512,
     "end_time": "2025-06-28T22:08:02.916148",
     "exception": false,
     "start_time": "2025-06-28T22:08:02.668636",
     "status": "completed"
    },
    "tags": []
   },
   "outputs": [
    {
     "data": {
      "image/png": "[encoded data removed]",
      "text/plain": [
       "<Figure size 600x500 with 2 Axes>"
      ]
     },
     "metadata": {},
     "output_type": "display_data"
    }
   ],
   "source": [
    "# Confusion Matrix\n",
    "cm = confusion_matrix(y_true, y_pred)\n",
    "plt.figure(figsize=(6, 5))\n",
    "sns.heatmap(cm, annot=True, fmt=\"d\", cmap=\"Blues\", xticklabels=['Normal', 'PCOS'], yticklabels=['Normal', 'PCOS'])\n",
    "plt.xlabel(\"Predicted Label\")\n",
    "plt.ylabel(\"True Label\")\n",
    "plt.title(\"Confusion Matrix\")\n",
    "plt.show()"
   ]
  },
  {
   "cell_type": "code",
   "execution_count": 18,
   "id": "75572ed9",
   "metadata": {
    "execution": {
     "iopub.execute_input": "2025-06-28T22:08:02.966704Z",
     "iopub.status.busy": "2025-06-28T22:08:02.966358Z",
     "iopub.status.idle": "2025-06-28T22:08:17.816677Z",
     "shell.execute_reply": "2025-06-28T22:08:17.815351Z"
    },
    "papermill": {
     "duration": 14.877692,
     "end_time": "2025-06-28T22:08:17.818720",
     "exception": false,
     "start_time": "2025-06-28T22:08:02.941028",
     "status": "completed"
    },
    "tags": []
   },
   "outputs": [
    {
     "name": "stdout",
     "output_type": "stream",
     "text": [
      "\u001b[1m2/2\u001b[0m \u001b[32m━━━━━━━━━━━━━━━━━━━━\u001b[0m\u001b[37m\u001b[0m \u001b[1m14s\u001b[0m 5s/step\n",
      "Image 1: Normal\n",
      "Image 2: Normal\n",
      "Image 3: Normal\n",
      "Image 4: Normal\n",
      "Image 5: Normal\n",
      "Image 6: Normal\n",
      "Image 7: Normal\n",
      "Image 8: Normal\n",
      "Image 9: Normal\n",
      "Image 10: Normal\n"
     ]
    }
   ],
   "source": [
    "# Define your thresholds\n",
    "LOW_CONF = 0.4\n",
    "HIGH_CONF = 0.6\n",
    "\n",
    "# Get prediction probabilities\n",
    "y_pred_probs = model.predict(test_generator)\n",
    "\n",
    "# Interpret predictions\n",
    "predictions = []\n",
    "for prob in y_pred_probs:\n",
    "    if prob < LOW_CONF:\n",
    "        predictions.append(\"Normal\")\n",
    "    elif prob > HIGH_CONF:\n",
    "        predictions.append(\"PCOS\")\n",
    "    else:\n",
    "        predictions.append(\"Uncertain or Invalid Input\")\n",
    "\n",
    "# Print example output\n",
    "for i, pred in enumerate(predictions[:10]):\n",
    "    print(f\"Image {i+1}: {pred}\")\n"
   ]
  },
  {
   "cell_type": "code",
   "execution_count": 19,
   "id": "e038a12b",
   "metadata": {
    "execution": {
     "iopub.execute_input": "2025-06-28T22:08:17.877558Z",
     "iopub.status.busy": "2025-06-28T22:08:17.877217Z",
     "iopub.status.idle": "2025-06-28T22:08:17.883003Z",
     "shell.execute_reply": "2025-06-28T22:08:17.881881Z"
    },
    "papermill": {
     "duration": 0.040556,
     "end_time": "2025-06-28T22:08:17.885042",
     "exception": false,
     "start_time": "2025-06-28T22:08:17.844486",
     "status": "completed"
    },
    "tags": []
   },
   "outputs": [],
   "source": [
    "# New predicted class labels (0, 1, or -1 for uncertain)\n",
    "y_pred = []\n",
    "for prob in y_pred_probs:\n",
    "    if prob < LOW_CONF:\n",
    "        y_pred.append(0)  # Normal\n",
    "    elif prob > HIGH_CONF:\n",
    "        y_pred.append(1)  # PCOS\n",
    "    else:\n",
    "        y_pred.append(-1)  # Uncertain or Invalid Input\n"
   ]
  },
  {
   "cell_type": "code",
   "execution_count": 20,
   "id": "887f0d06",
   "metadata": {
    "execution": {
     "iopub.execute_input": "2025-06-28T22:08:17.938464Z",
     "iopub.status.busy": "2025-06-28T22:08:17.938077Z",
     "iopub.status.idle": "2025-06-28T22:08:18.452950Z",
     "shell.execute_reply": "2025-06-28T22:08:18.451480Z"
    },
    "papermill": {
     "duration": 0.542798,
     "end_time": "2025-06-28T22:08:18.454901",
     "exception": false,
     "start_time": "2025-06-28T22:08:17.912103",
     "status": "completed"
    },
    "tags": []
   },
   "outputs": [
    {
     "data": {
      "image/png": "[encoded data removed]",
      "text/plain": [
       "<Figure size 640x480 with 2 Axes>"
      ]
     },
     "metadata": {},
     "output_type": "display_data"
    },
    {
     "name": "stdout",
     "output_type": "stream",
     "text": [
      "              precision    recall  f1-score   support\n",
      "\n",
      "           0       0.98      1.00      0.99       125\n",
      "           1       1.00      0.98      0.99        89\n",
      "\n",
      "    accuracy                           0.99       214\n",
      "   macro avg       0.99      0.99      0.99       214\n",
      "weighted avg       0.99      0.99      0.99       214\n",
      "\n"
     ]
    }
   ],
   "source": [
    "# Convert to NumPy for filtering\n",
    "y_pred = np.array(y_pred)\n",
    "y_true = np.array(y_true)\n",
    "\n",
    "# Keep only confident predictions (not -1)\n",
    "mask = y_pred != -1\n",
    "y_pred_filtered = y_pred[mask]\n",
    "y_true_filtered = y_true[mask]\n",
    "\n",
    "# Confusion Matrix\n",
    "cm = confusion_matrix(y_true_filtered, y_pred_filtered)\n",
    "sns.heatmap(cm, annot=True, fmt=\"d\", cmap=\"Blues\", xticklabels=['Normal', 'PCOS'], yticklabels=['Normal', 'PCOS'])\n",
    "plt.title(\"Confusion Matrix (Confident Predictions Only)\")\n",
    "plt.xlabel(\"Predicted\")\n",
    "plt.ylabel(\"True\")\n",
    "plt.show()\n",
    "\n",
    "# Report\n",
    "print(classification_report(y_true_filtered, y_pred_filtered))\n"
   ]
  },
  {
   "cell_type": "code",
   "execution_count": 21,
   "id": "76763118",
   "metadata": {
    "execution": {
     "iopub.execute_input": "2025-06-28T22:08:18.508981Z",
     "iopub.status.busy": "2025-06-28T22:08:18.508579Z",
     "iopub.status.idle": "2025-06-28T22:08:18.514386Z",
     "shell.execute_reply": "2025-06-28T22:08:18.513025Z"
    },
    "papermill": {
     "duration": 0.035379,
     "end_time": "2025-06-28T22:08:18.516176",
     "exception": false,
     "start_time": "2025-06-28T22:08:18.480797",
     "status": "completed"
    },
    "tags": []
   },
   "outputs": [
    {
     "name": "stdout",
     "output_type": "stream",
     "text": [
      "Uncertain/Invalid inputs: 0/214 (0.00%)\n"
     ]
    }
   ],
   "source": [
    "total = len(y_pred)\n",
    "uncertain_count = np.sum(y_pred == -1)\n",
    "print(f\"Uncertain/Invalid inputs: {uncertain_count}/{total} ({100 * uncertain_count / total:.2f}%)\")\n"
   ]
  },
  {
   "cell_type": "code",
   "execution_count": 22,
   "id": "799489b9",
   "metadata": {
    "execution": {
     "iopub.execute_input": "2025-06-28T22:08:18.569853Z",
     "iopub.status.busy": "2025-06-28T22:08:18.569465Z",
     "iopub.status.idle": "2025-06-28T22:08:18.928152Z",
     "shell.execute_reply": "2025-06-28T22:08:18.927050Z"
    },
    "papermill": {
     "duration": 0.388186,
     "end_time": "2025-06-28T22:08:18.929956",
     "exception": false,
     "start_time": "2025-06-28T22:08:18.541770",
     "status": "completed"
    },
    "tags": []
   },
   "outputs": [
    {
     "name": "stdout",
     "output_type": "stream",
     "text": [
      "Model saved as pcos_model.h5\n"
     ]
    }
   ],
   "source": [
    "# Save the model\n",
    "model.save(\"pcos_model.h5\")\n",
    "print(\"Model saved as pcos_model.h5\")"
   ]
  },
  {
   "cell_type": "code",
   "execution_count": 23,
   "id": "35ed66f7",
   "metadata": {
    "execution": {
     "iopub.execute_input": "2025-06-28T22:08:18.983410Z",
     "iopub.status.busy": "2025-06-28T22:08:18.983036Z",
     "iopub.status.idle": "2025-06-28T22:08:35.488073Z",
     "shell.execute_reply": "2025-06-28T22:08:35.486948Z"
    },
    "papermill": {
     "duration": 16.534059,
     "end_time": "2025-06-28T22:08:35.489978",
     "exception": false,
     "start_time": "2025-06-28T22:08:18.955919",
     "status": "completed"
    },
    "tags": []
   },
   "outputs": [
    {
     "name": "stdout",
     "output_type": "stream",
     "text": [
      "Model loaded.\n",
      "Found 214 images belonging to 2 classes.\n"
     ]
    },
    {
     "name": "stderr",
     "output_type": "stream",
     "text": [
      "/usr/local/lib/python3.10/dist-packages/keras/src/trainers/data_adapters/py_dataset_adapter.py:122: UserWarning: Your `PyDataset` class should call `super().__init__(**kwargs)` in its constructor. `**kwargs` can include `workers`, `use_multiprocessing`, `max_queue_size`. Do not pass these arguments to `fit()`, as they will be ignored.\n",
      "  self._warn_if_super_not_called()\n"
     ]
    },
    {
     "name": "stdout",
     "output_type": "stream",
     "text": [
      "\u001b[1m2/2\u001b[0m \u001b[32m━━━━━━━━━━━━━━━━━━━━\u001b[0m\u001b[37m\u001b[0m \u001b[1m15s\u001b[0m 6s/step\n",
      "Total test samples: 214\n",
      "Confident predictions: 214\n",
      "Uncertain predictions flagged: 0\n",
      "\n",
      "📊 Classification Report (Confident Predictions Only):\n",
      "              precision    recall  f1-score   support\n",
      "\n",
      "           0       0.98      1.00      0.99       125\n",
      "           1       1.00      0.98      0.99        89\n",
      "\n",
      "    accuracy                           0.99       214\n",
      "   macro avg       0.99      0.99      0.99       214\n",
      "weighted avg       0.99      0.99      0.99       214\n",
      "\n"
     ]
    },
    {
     "data": {
      "image/png": "[encoded data removed]",
      "text/plain": [
       "<Figure size 640x480 with 2 Axes>"
      ]
     },
     "metadata": {},
     "output_type": "display_data"
    }
   ],
   "source": [
    "import numpy as np\n",
    "from tensorflow.keras.models import load_model\n",
    "from tensorflow.keras.preprocessing.image import ImageDataGenerator\n",
    "from sklearn.metrics import classification_report, confusion_matrix\n",
    "import seaborn as sns\n",
    "import matplotlib.pyplot as plt\n",
    "\n",
    "# === 1. Load Model ===\n",
    "model = load_model(\"pcos_model.h5\")\n",
    "print(\"Model loaded.\")\n",
    "\n",
    "# === 2. Prepare Test Data ===\n",
    "test_datagen = ImageDataGenerator(rescale=1./255)\n",
    "test_generator = test_datagen.flow_from_directory(\n",
    "    new_test_dir,\n",
    "    target_size=(224, 224),\n",
    "    batch_size=128,\n",
    "    shuffle=False,\n",
    "    color_mode=\"grayscale\",\n",
    "    class_mode='binary'\n",
    ")\n",
    "\n",
    "# === 3. Make Predictions ===\n",
    "y_pred_probs = model.predict(test_generator)\n",
    "y_true = test_generator.classes\n",
    "\n",
    "# === 4. Apply Confidence Threshold ===\n",
    "LOW_CONF = 0.4\n",
    "HIGH_CONF = 0.6\n",
    "\n",
    "y_pred_conf = []\n",
    "for prob in y_pred_probs:\n",
    "    if prob < LOW_CONF:\n",
    "        y_pred_conf.append(0)  # Normal\n",
    "    elif prob > HIGH_CONF:\n",
    "        y_pred_conf.append(1)  # PCOS\n",
    "    else:\n",
    "        y_pred_conf.append(-1)  # Uncertain / Invalid\n",
    "\n",
    "y_pred_conf = np.array(y_pred_conf)\n",
    "y_true = np.array(y_true)\n",
    "\n",
    "# === 5. Filter Out Uncertain Cases for Evaluation ===\n",
    "mask = y_pred_conf != -1\n",
    "y_true_filtered = y_true[mask]\n",
    "y_pred_filtered = y_pred_conf[mask]\n",
    "\n",
    "print(f\"Total test samples: {len(y_true)}\")\n",
    "print(f\"Confident predictions: {len(y_true_filtered)}\")\n",
    "print(f\"Uncertain predictions flagged: {np.sum(y_pred_conf == -1)}\")\n",
    "\n",
    "# === 6. Evaluate Only Confident Predictions ===\n",
    "print(\"\\n📊 Classification Report (Confident Predictions Only):\")\n",
    "print(classification_report(y_true_filtered, y_pred_filtered))\n",
    "\n",
    "# === 7. Confusion Matrix ===\n",
    "cm = confusion_matrix(y_true_filtered, y_pred_filtered)\n",
    "sns.heatmap(cm, annot=True, fmt=\"d\", cmap=\"Blues\", xticklabels=[\"Normal\", \"PCOS\"], yticklabels=[\"Normal\", \"PCOS\"])\n",
    "plt.xlabel(\"Predicted\")\n",
    "plt.ylabel(\"Actual\")\n",
    "plt.title(\"Confusion Matrix (Confident Predictions Only)\")\n",
    "plt.show()\n"
   ]
  }
 ],
 "metadata": {
  "kaggle": {
   "accelerator": "none",
   "dataSources": [
    {
     "datasetId": 2065225,
     "sourceId": 3426692,
     "sourceType": "datasetVersion"
    },
    {
     "datasetId": 5923488,
     "sourceId": 9689396,
     "sourceType": "datasetVersion"
    }
   ],
   "dockerImageVersionId": 30919,
   "isGpuEnabled": false,
   "isInternetEnabled": true,
   "language": "python",
   "sourceType": "notebook"
  },
  "kernelspec": {
   "display_name": "Python 3",
   "language": "python",
   "name": "python3"
  },
  "language_info": {
   "codemirror_mode": {
    "name": "ipython",
    "version": 3
   },
   "file_extension": ".py",
   "mimetype": "text/x-python",
   "name": "python",
   "nbconvert_exporter": "python",
   "pygments_lexer": "ipython3",
   "version": "3.10.12"
  },
  "papermill": {
   "default_parameters": {},
   "duration": 7516.242652,
   "end_time": "2025-06-28T22:08:38.528333",
   "environment_variables": {},
   "exception": null,
   "input_path": "__notebook__.ipynb",
   "output_path": "__notebook__.ipynb",
   "parameters": {},
   "start_time": "2025-06-28T20:03:22.285681",
   "version": "2.6.0"
  }
 },
 "nbformat": 4,
 "nbformat_minor": 5
}
