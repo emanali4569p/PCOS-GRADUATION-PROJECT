{
 "cells": [
  {
   "cell_type": "code",
   "execution_count": 1,
   "id": "c2c59e81",
   "metadata": {
    "execution": {
     "iopub.execute_input": "2025-06-20T23:49:09.759814Z",
     "iopub.status.busy": "2025-06-20T23:49:09.759591Z",
     "iopub.status.idle": "2025-06-20T23:49:21.625347Z",
     "shell.execute_reply": "2025-06-20T23:49:21.624648Z"
    },
    "papermill": {
     "duration": 11.872795,
     "end_time": "2025-06-20T23:49:21.626859",
     "exception": false,
     "start_time": "2025-06-20T23:49:09.754064",
     "status": "completed"
    },
    "tags": []
   },
   "outputs": [],
   "source": [
    "import tensorflow as tf\n",
    "from tensorflow.keras.models import Model\n",
    "from tensorflow.keras.layers import Dense, GlobalAveragePooling2D, Dropout\n",
    "from tensorflow.keras.applications import MobileNetV2\n",
    "from tensorflow.keras.preprocessing.image import ImageDataGenerator\n",
    "from tensorflow.keras.optimizers import Adam\n",
    "import tensorflow as tf\n",
    "from tensorflow.keras import layers, models\n",
    "from tensorflow.keras.optimizers import Adam\n",
    "import numpy as np\n",
    "import os\n",
    "import shutil\n",
    "import random\n",
    "import pandas as pd\n",
    "import matplotlib.pyplot as plt\n",
    "from tensorflow.keras.models import Sequential\n",
    "from tensorflow.keras.preprocessing import image\n",
    "from tensorflow.keras.callbacks import ModelCheckpoint, EarlyStopping\n",
    "from tensorflow.keras.layers import Dense, Flatten, Conv2D, MaxPooling2D, Dropout, GlobalAveragePooling2D\n",
    "from tensorflow.keras.losses import BinaryCrossentropy\n",
    "from tensorflow.keras.applications import VGG16, ResNet50, EfficientNetB0\n"
   ]
  },
  {
   "cell_type": "code",
   "execution_count": 2,
   "id": "ae99caf4",
   "metadata": {
    "execution": {
     "iopub.execute_input": "2025-06-20T23:49:21.636882Z",
     "iopub.status.busy": "2025-06-20T23:49:21.636444Z",
     "iopub.status.idle": "2025-06-20T23:49:21.640811Z",
     "shell.execute_reply": "2025-06-20T23:49:21.640055Z"
    },
    "papermill": {
     "duration": 0.010505,
     "end_time": "2025-06-20T23:49:21.642090",
     "exception": false,
     "start_time": "2025-06-20T23:49:21.631585",
     "status": "completed"
    },
    "tags": []
   },
   "outputs": [
    {
     "name": "stdout",
     "output_type": "stream",
     "text": [
      "TensorFlow Version: 2.17.1\n",
      "Keras Version: 3.5.0\n"
     ]
    }
   ],
   "source": [
    "import keras\n",
    "\n",
    "print(\"TensorFlow Version:\", tf.__version__)\n",
    "print(\"Keras Version:\", keras.__version__)\n"
   ]
  },
  {
   "cell_type": "code",
   "execution_count": 3,
   "id": "4f0c7ccd",
   "metadata": {
    "execution": {
     "iopub.execute_input": "2025-06-20T23:49:21.651448Z",
     "iopub.status.busy": "2025-06-20T23:49:21.651238Z",
     "iopub.status.idle": "2025-06-20T23:49:21.654084Z",
     "shell.execute_reply": "2025-06-20T23:49:21.653473Z"
    },
    "papermill": {
     "duration": 0.009004,
     "end_time": "2025-06-20T23:49:21.655341",
     "exception": false,
     "start_time": "2025-06-20T23:49:21.646337",
     "status": "completed"
    },
    "tags": []
   },
   "outputs": [],
   "source": [
    "# Paths\n",
    "dataset_1 = \"/kaggle/input/pcos-detection-using-ultrasound-images/data/train\"\n",
    "dataset_2= \"/kaggle/input/pcos-images/Dataset pcos\"\n"
   ]
  },
  {
   "cell_type": "code",
   "execution_count": 4,
   "id": "ceee9499",
   "metadata": {
    "execution": {
     "iopub.execute_input": "2025-06-20T23:49:21.664464Z",
     "iopub.status.busy": "2025-06-20T23:49:21.664239Z",
     "iopub.status.idle": "2025-06-20T23:49:21.668591Z",
     "shell.execute_reply": "2025-06-20T23:49:21.667805Z"
    },
    "papermill": {
     "duration": 0.010141,
     "end_time": "2025-06-20T23:49:21.669756",
     "exception": false,
     "start_time": "2025-06-20T23:49:21.659615",
     "status": "completed"
    },
    "tags": []
   },
   "outputs": [],
   "source": [
    "# New combined dataset path\n",
    "combined_dir = \"/kaggle/working/dataset\"\n",
    "new_train_dir = \"/kaggle/working/train\"\n",
    "new_test_dir = \"/kaggle/working/test\"\n",
    "\n",
    "# Create directories\n",
    "os.makedirs(combined_dir, exist_ok=True)\n",
    "os.makedirs(new_train_dir, exist_ok=True)\n",
    "os.makedirs(new_test_dir, exist_ok=True)\n",
    "\n",
    "# Define the correct class mappings\n",
    "class_mapping = {\n",
    "    \"notinfected\": \"Normal\",\n",
    "    \"infected\": \"PCOS\",\n",
    "    \"Normal\": \"Normal\",\n",
    "    \"PCOS\": \"PCOS\"\n",
    "}"
   ]
  },
  {
   "cell_type": "code",
   "execution_count": 5,
   "id": "cef3085c",
   "metadata": {
    "execution": {
     "iopub.execute_input": "2025-06-20T23:49:21.678893Z",
     "iopub.status.busy": "2025-06-20T23:49:21.678658Z",
     "iopub.status.idle": "2025-06-20T23:49:32.899930Z",
     "shell.execute_reply": "2025-06-20T23:49:32.898808Z"
    },
    "papermill": {
     "duration": 11.227779,
     "end_time": "2025-06-20T23:49:32.901704",
     "exception": false,
     "start_time": "2025-06-20T23:49:21.673925",
     "status": "completed"
    },
    "tags": []
   },
   "outputs": [],
   "source": [
    "# Merge both datasets under the correct class names\n",
    "for dataset_path in [dataset_1, dataset_2]:\n",
    "    for class_name in os.listdir(dataset_path):\n",
    "        original_class_path = os.path.join(dataset_path, class_name)\n",
    "\n",
    "        # Skip if not a directory\n",
    "        if not os.path.isdir(original_class_path):\n",
    "            continue\n",
    "\n",
    "        # Get the correct class name (mapping infected → PCOS, notinfected → Normal)\n",
    "        new_class_name = class_mapping.get(class_name, None)\n",
    "        if new_class_name is None:\n",
    "            print(f\" Warning: Unknown class '{class_name}', skipping.\")\n",
    "            continue\n",
    "\n",
    "        # Create new class directory in combined dataset\n",
    "        combined_class_path = os.path.join(combined_dir, new_class_name)\n",
    "        os.makedirs(combined_class_path, exist_ok=True)\n",
    "\n",
    "        # Copy images\n",
    "        for img in os.listdir(original_class_path):\n",
    "            shutil.copy(os.path.join(original_class_path, img), os.path.join(combined_class_path, img))\n",
    "# split into train (90%) and test (10%)\n",
    "for class_name in [\"Normal\", \"PCOS\"]:\n",
    "    class_path = os.path.join(combined_dir, class_name)\n",
    "    images = os.listdir(class_path)\n",
    "    random.shuffle(images)\n",
    "\n",
    "    # Create train/test class folders\n",
    "    os.makedirs(os.path.join(new_train_dir, class_name), exist_ok=True)\n",
    "    os.makedirs(os.path.join(new_test_dir, class_name), exist_ok=True)\n",
    "\n",
    "    # Split 90% train, 10% test\n",
    "    split_index = int(0.9 * len(images))\n",
    "    train_images = images[:split_index]\n",
    "    test_images = images[split_index:]\n",
    "\n",
    "    # Copy images to new train and test directories\n",
    "    for img in train_images:\n",
    "        shutil.copy(os.path.join(class_path, img), os.path.join(new_train_dir, class_name, img))\n",
    "\n",
    "    for img in test_images:\n",
    "        shutil.copy(os.path.join(class_path, img), os.path.join(new_test_dir, class_name, img))"
   ]
  },
  {
   "cell_type": "code",
   "execution_count": 6,
   "id": "1e1eff6c",
   "metadata": {
    "execution": {
     "iopub.execute_input": "2025-06-20T23:49:32.911282Z",
     "iopub.status.busy": "2025-06-20T23:49:32.911041Z",
     "iopub.status.idle": "2025-06-20T23:49:32.915123Z",
     "shell.execute_reply": "2025-06-20T23:49:32.914324Z"
    },
    "papermill": {
     "duration": 0.010071,
     "end_time": "2025-06-20T23:49:32.916333",
     "exception": false,
     "start_time": "2025-06-20T23:49:32.906262",
     "status": "completed"
    },
    "tags": []
   },
   "outputs": [
    {
     "name": "stdout",
     "output_type": "stream",
     "text": [
      " Train folder: /kaggle/working/train\n",
      " Test folder: /kaggle/working/test\n"
     ]
    }
   ],
   "source": [
    "print(f\" Train folder: {new_train_dir}\")\n",
    "print(f\" Test folder: {new_test_dir}\")"
   ]
  },
  {
   "cell_type": "code",
   "execution_count": 7,
   "id": "832fb854",
   "metadata": {
    "execution": {
     "iopub.execute_input": "2025-06-20T23:49:32.925580Z",
     "iopub.status.busy": "2025-06-20T23:49:32.925357Z",
     "iopub.status.idle": "2025-06-20T23:49:32.930951Z",
     "shell.execute_reply": "2025-06-20T23:49:32.930098Z"
    },
    "papermill": {
     "duration": 0.011478,
     "end_time": "2025-06-20T23:49:32.932165",
     "exception": false,
     "start_time": "2025-06-20T23:49:32.920687",
     "status": "completed"
    },
    "tags": []
   },
   "outputs": [
    {
     "name": "stdout",
     "output_type": "stream",
     "text": [
      "PCOS: 792 train images\n",
      "Normal: 1118 train images\n",
      "PCOS: 89 test images\n",
      "Normal: 125 test images\n"
     ]
    }
   ],
   "source": [
    "for class_name in os.listdir(new_train_dir):\n",
    "    print(f\"{class_name}: {len(os.listdir(os.path.join(new_train_dir, class_name)))} train images\")\n",
    "    \n",
    "for class_name in os.listdir(new_test_dir):\n",
    "    print(f\"{class_name}: {len(os.listdir(os.path.join(new_test_dir, class_name)))} test images\")\n"
   ]
  },
  {
   "cell_type": "code",
   "execution_count": 8,
   "id": "c5fd2ce3",
   "metadata": {
    "execution": {
     "iopub.execute_input": "2025-06-20T23:49:32.941384Z",
     "iopub.status.busy": "2025-06-20T23:49:32.941165Z",
     "iopub.status.idle": "2025-06-20T23:49:32.944116Z",
     "shell.execute_reply": "2025-06-20T23:49:32.943480Z"
    },
    "papermill": {
     "duration": 0.00889,
     "end_time": "2025-06-20T23:49:32.945351",
     "exception": false,
     "start_time": "2025-06-20T23:49:32.936461",
     "status": "completed"
    },
    "tags": []
   },
   "outputs": [],
   "source": [
    "\n",
    "# Parameters\n",
    "batch_size = 128\n",
    "img_height = img_width =224"
   ]
  },
  {
   "cell_type": "code",
   "execution_count": 9,
   "id": "0e445d2f",
   "metadata": {
    "execution": {
     "iopub.execute_input": "2025-06-20T23:49:32.954447Z",
     "iopub.status.busy": "2025-06-20T23:49:32.954251Z",
     "iopub.status.idle": "2025-06-20T23:49:32.957722Z",
     "shell.execute_reply": "2025-06-20T23:49:32.957062Z"
    },
    "papermill": {
     "duration": 0.009352,
     "end_time": "2025-06-20T23:49:32.958910",
     "exception": false,
     "start_time": "2025-06-20T23:49:32.949558",
     "status": "completed"
    },
    "tags": []
   },
   "outputs": [],
   "source": [
    "# Define data augmentation\n",
    "train_datagen = ImageDataGenerator(\n",
    "    rescale=1./255,\n",
    "    horizontal_flip=True,\n",
    "    rotation_range=20,\n",
    "    shear_range=0.2,\n",
    "    zoom_range=0.2,\n",
    "    width_shift_range=0.2,\n",
    "    height_shift_range=0.2,\n",
    "    validation_split=0.2\n",
    ")\n",
    "\n",
    "test_datagen = ImageDataGenerator(rescale=1./255)"
   ]
  },
  {
   "cell_type": "code",
   "execution_count": 10,
   "id": "a0e7661c",
   "metadata": {
    "execution": {
     "iopub.execute_input": "2025-06-20T23:49:32.968101Z",
     "iopub.status.busy": "2025-06-20T23:49:32.967856Z",
     "iopub.status.idle": "2025-06-20T23:49:33.004350Z",
     "shell.execute_reply": "2025-06-20T23:49:33.003756Z"
    },
    "papermill": {
     "duration": 0.042246,
     "end_time": "2025-06-20T23:49:33.005467",
     "exception": false,
     "start_time": "2025-06-20T23:49:32.963221",
     "status": "completed"
    },
    "tags": []
   },
   "outputs": [
    {
     "name": "stdout",
     "output_type": "stream",
     "text": [
      "Found 1529 images belonging to 2 classes.\n",
      "Found 214 images belonging to 2 classes.\n"
     ]
    }
   ],
   "source": [
    "\n",
    "train_generator = train_datagen.flow_from_directory(\n",
    "    new_train_dir, target_size=(224,224), batch_size=batch_size, class_mode='binary', subset=\"training\"\n",
    ",color_mode=\"grayscale\",seed=12)\n",
    "\n",
    "\n",
    "\n",
    "test_generator = test_datagen.flow_from_directory(\n",
    "   new_test_dir,\n",
    "    target_size=(224,224),\n",
    "    batch_size=128,\n",
    "    shuffle= False,\n",
    "    color_mode=\"grayscale\",\n",
    "    class_mode='binary'\n",
    ")"
   ]
  },
  {
   "cell_type": "code",
   "execution_count": null,
   "id": "83874f71",
   "metadata": {
    "papermill": {
     "duration": 0.004092,
     "end_time": "2025-06-20T23:49:33.014054",
     "exception": false,
     "start_time": "2025-06-20T23:49:33.009962",
     "status": "completed"
    },
    "tags": []
   },
   "outputs": [],
   "source": []
  },
  {
   "cell_type": "code",
   "execution_count": 11,
   "id": "013c5cf2",
   "metadata": {
    "execution": {
     "iopub.execute_input": "2025-06-20T23:49:33.023335Z",
     "iopub.status.busy": "2025-06-20T23:49:33.023133Z",
     "iopub.status.idle": "2025-06-20T23:49:35.389838Z",
     "shell.execute_reply": "2025-06-20T23:49:35.389086Z"
    },
    "papermill": {
     "duration": 2.372754,
     "end_time": "2025-06-20T23:49:35.391123",
     "exception": false,
     "start_time": "2025-06-20T23:49:33.018369",
     "status": "completed"
    },
    "tags": []
   },
   "outputs": [
    {
     "name": "stderr",
     "output_type": "stream",
     "text": [
      "/usr/local/lib/python3.10/dist-packages/keras/src/layers/convolutional/base_conv.py:107: UserWarning: Do not pass an `input_shape`/`input_dim` argument to a layer. When using Sequential models, prefer using an `Input(shape)` object as the first layer in the model instead.\n",
      "  super().__init__(activity_regularizer=activity_regularizer, **kwargs)\n"
     ]
    },
    {
     "data": {
      "text/html": [
       "<pre style=\"white-space:pre;overflow-x:auto;line-height:normal;font-family:Menlo,'DejaVu Sans Mono',consolas,'Courier New',monospace\"><span style=\"font-weight: bold\">Model: \"sequential\"</span>\n",
       "</pre>\n"
      ],
      "text/plain": [
       "\u001b[1mModel: \"sequential\"\u001b[0m\n"
      ]
     },
     "metadata": {},
     "output_type": "display_data"
    },
    {
     "data": {
      "text/html": [
       "<pre style=\"white-space:pre;overflow-x:auto;line-height:normal;font-family:Menlo,'DejaVu Sans Mono',consolas,'Courier New',monospace\">┏━━━━━━━━━━━━━━━━━━━━━━━━━━━━━━━━━━━━━━┳━━━━━━━━━━━━━━━━━━━━━━━━━━━━━┳━━━━━━━━━━━━━━━━━┓\n",
       "┃<span style=\"font-weight: bold\"> Layer (type)                         </span>┃<span style=\"font-weight: bold\"> Output Shape                </span>┃<span style=\"font-weight: bold\">         Param # </span>┃\n",
       "┡━━━━━━━━━━━━━━━━━━━━━━━━━━━━━━━━━━━━━━╇━━━━━━━━━━━━━━━━━━━━━━━━━━━━━╇━━━━━━━━━━━━━━━━━┩\n",
       "│ conv2d (<span style=\"color: #0087ff; text-decoration-color: #0087ff\">Conv2D</span>)                      │ (<span style=\"color: #00d7ff; text-decoration-color: #00d7ff\">None</span>, <span style=\"color: #00af00; text-decoration-color: #00af00\">224</span>, <span style=\"color: #00af00; text-decoration-color: #00af00\">224</span>, <span style=\"color: #00af00; text-decoration-color: #00af00\">32</span>)        │             <span style=\"color: #00af00; text-decoration-color: #00af00\">320</span> │\n",
       "├──────────────────────────────────────┼─────────────────────────────┼─────────────────┤\n",
       "│ conv2d_1 (<span style=\"color: #0087ff; text-decoration-color: #0087ff\">Conv2D</span>)                    │ (<span style=\"color: #00d7ff; text-decoration-color: #00d7ff\">None</span>, <span style=\"color: #00af00; text-decoration-color: #00af00\">224</span>, <span style=\"color: #00af00; text-decoration-color: #00af00\">224</span>, <span style=\"color: #00af00; text-decoration-color: #00af00\">32</span>)        │           <span style=\"color: #00af00; text-decoration-color: #00af00\">9,248</span> │\n",
       "├──────────────────────────────────────┼─────────────────────────────┼─────────────────┤\n",
       "│ max_pooling2d (<span style=\"color: #0087ff; text-decoration-color: #0087ff\">MaxPooling2D</span>)         │ (<span style=\"color: #00d7ff; text-decoration-color: #00d7ff\">None</span>, <span style=\"color: #00af00; text-decoration-color: #00af00\">112</span>, <span style=\"color: #00af00; text-decoration-color: #00af00\">112</span>, <span style=\"color: #00af00; text-decoration-color: #00af00\">32</span>)        │               <span style=\"color: #00af00; text-decoration-color: #00af00\">0</span> │\n",
       "├──────────────────────────────────────┼─────────────────────────────┼─────────────────┤\n",
       "│ conv2d_2 (<span style=\"color: #0087ff; text-decoration-color: #0087ff\">Conv2D</span>)                    │ (<span style=\"color: #00d7ff; text-decoration-color: #00d7ff\">None</span>, <span style=\"color: #00af00; text-decoration-color: #00af00\">112</span>, <span style=\"color: #00af00; text-decoration-color: #00af00\">112</span>, <span style=\"color: #00af00; text-decoration-color: #00af00\">64</span>)        │          <span style=\"color: #00af00; text-decoration-color: #00af00\">18,496</span> │\n",
       "├──────────────────────────────────────┼─────────────────────────────┼─────────────────┤\n",
       "│ conv2d_3 (<span style=\"color: #0087ff; text-decoration-color: #0087ff\">Conv2D</span>)                    │ (<span style=\"color: #00d7ff; text-decoration-color: #00d7ff\">None</span>, <span style=\"color: #00af00; text-decoration-color: #00af00\">112</span>, <span style=\"color: #00af00; text-decoration-color: #00af00\">112</span>, <span style=\"color: #00af00; text-decoration-color: #00af00\">64</span>)        │          <span style=\"color: #00af00; text-decoration-color: #00af00\">36,928</span> │\n",
       "├──────────────────────────────────────┼─────────────────────────────┼─────────────────┤\n",
       "│ max_pooling2d_1 (<span style=\"color: #0087ff; text-decoration-color: #0087ff\">MaxPooling2D</span>)       │ (<span style=\"color: #00d7ff; text-decoration-color: #00d7ff\">None</span>, <span style=\"color: #00af00; text-decoration-color: #00af00\">56</span>, <span style=\"color: #00af00; text-decoration-color: #00af00\">56</span>, <span style=\"color: #00af00; text-decoration-color: #00af00\">64</span>)          │               <span style=\"color: #00af00; text-decoration-color: #00af00\">0</span> │\n",
       "├──────────────────────────────────────┼─────────────────────────────┼─────────────────┤\n",
       "│ conv2d_4 (<span style=\"color: #0087ff; text-decoration-color: #0087ff\">Conv2D</span>)                    │ (<span style=\"color: #00d7ff; text-decoration-color: #00d7ff\">None</span>, <span style=\"color: #00af00; text-decoration-color: #00af00\">56</span>, <span style=\"color: #00af00; text-decoration-color: #00af00\">56</span>, <span style=\"color: #00af00; text-decoration-color: #00af00\">128</span>)         │          <span style=\"color: #00af00; text-decoration-color: #00af00\">73,856</span> │\n",
       "├──────────────────────────────────────┼─────────────────────────────┼─────────────────┤\n",
       "│ conv2d_5 (<span style=\"color: #0087ff; text-decoration-color: #0087ff\">Conv2D</span>)                    │ (<span style=\"color: #00d7ff; text-decoration-color: #00d7ff\">None</span>, <span style=\"color: #00af00; text-decoration-color: #00af00\">56</span>, <span style=\"color: #00af00; text-decoration-color: #00af00\">56</span>, <span style=\"color: #00af00; text-decoration-color: #00af00\">128</span>)         │         <span style=\"color: #00af00; text-decoration-color: #00af00\">147,584</span> │\n",
       "├──────────────────────────────────────┼─────────────────────────────┼─────────────────┤\n",
       "│ max_pooling2d_2 (<span style=\"color: #0087ff; text-decoration-color: #0087ff\">MaxPooling2D</span>)       │ (<span style=\"color: #00d7ff; text-decoration-color: #00d7ff\">None</span>, <span style=\"color: #00af00; text-decoration-color: #00af00\">28</span>, <span style=\"color: #00af00; text-decoration-color: #00af00\">28</span>, <span style=\"color: #00af00; text-decoration-color: #00af00\">128</span>)         │               <span style=\"color: #00af00; text-decoration-color: #00af00\">0</span> │\n",
       "├──────────────────────────────────────┼─────────────────────────────┼─────────────────┤\n",
       "│ conv2d_6 (<span style=\"color: #0087ff; text-decoration-color: #0087ff\">Conv2D</span>)                    │ (<span style=\"color: #00d7ff; text-decoration-color: #00d7ff\">None</span>, <span style=\"color: #00af00; text-decoration-color: #00af00\">28</span>, <span style=\"color: #00af00; text-decoration-color: #00af00\">28</span>, <span style=\"color: #00af00; text-decoration-color: #00af00\">256</span>)         │         <span style=\"color: #00af00; text-decoration-color: #00af00\">295,168</span> │\n",
       "├──────────────────────────────────────┼─────────────────────────────┼─────────────────┤\n",
       "│ conv2d_7 (<span style=\"color: #0087ff; text-decoration-color: #0087ff\">Conv2D</span>)                    │ (<span style=\"color: #00d7ff; text-decoration-color: #00d7ff\">None</span>, <span style=\"color: #00af00; text-decoration-color: #00af00\">28</span>, <span style=\"color: #00af00; text-decoration-color: #00af00\">28</span>, <span style=\"color: #00af00; text-decoration-color: #00af00\">256</span>)         │         <span style=\"color: #00af00; text-decoration-color: #00af00\">590,080</span> │\n",
       "├──────────────────────────────────────┼─────────────────────────────┼─────────────────┤\n",
       "│ max_pooling2d_3 (<span style=\"color: #0087ff; text-decoration-color: #0087ff\">MaxPooling2D</span>)       │ (<span style=\"color: #00d7ff; text-decoration-color: #00d7ff\">None</span>, <span style=\"color: #00af00; text-decoration-color: #00af00\">14</span>, <span style=\"color: #00af00; text-decoration-color: #00af00\">14</span>, <span style=\"color: #00af00; text-decoration-color: #00af00\">256</span>)         │               <span style=\"color: #00af00; text-decoration-color: #00af00\">0</span> │\n",
       "├──────────────────────────────────────┼─────────────────────────────┼─────────────────┤\n",
       "│ conv2d_8 (<span style=\"color: #0087ff; text-decoration-color: #0087ff\">Conv2D</span>)                    │ (<span style=\"color: #00d7ff; text-decoration-color: #00d7ff\">None</span>, <span style=\"color: #00af00; text-decoration-color: #00af00\">14</span>, <span style=\"color: #00af00; text-decoration-color: #00af00\">14</span>, <span style=\"color: #00af00; text-decoration-color: #00af00\">512</span>)         │       <span style=\"color: #00af00; text-decoration-color: #00af00\">1,180,160</span> │\n",
       "├──────────────────────────────────────┼─────────────────────────────┼─────────────────┤\n",
       "│ conv2d_9 (<span style=\"color: #0087ff; text-decoration-color: #0087ff\">Conv2D</span>)                    │ (<span style=\"color: #00d7ff; text-decoration-color: #00d7ff\">None</span>, <span style=\"color: #00af00; text-decoration-color: #00af00\">14</span>, <span style=\"color: #00af00; text-decoration-color: #00af00\">14</span>, <span style=\"color: #00af00; text-decoration-color: #00af00\">512</span>)         │       <span style=\"color: #00af00; text-decoration-color: #00af00\">2,359,808</span> │\n",
       "├──────────────────────────────────────┼─────────────────────────────┼─────────────────┤\n",
       "│ max_pooling2d_4 (<span style=\"color: #0087ff; text-decoration-color: #0087ff\">MaxPooling2D</span>)       │ (<span style=\"color: #00d7ff; text-decoration-color: #00d7ff\">None</span>, <span style=\"color: #00af00; text-decoration-color: #00af00\">7</span>, <span style=\"color: #00af00; text-decoration-color: #00af00\">7</span>, <span style=\"color: #00af00; text-decoration-color: #00af00\">512</span>)           │               <span style=\"color: #00af00; text-decoration-color: #00af00\">0</span> │\n",
       "├──────────────────────────────────────┼─────────────────────────────┼─────────────────┤\n",
       "│ flatten (<span style=\"color: #0087ff; text-decoration-color: #0087ff\">Flatten</span>)                    │ (<span style=\"color: #00d7ff; text-decoration-color: #00d7ff\">None</span>, <span style=\"color: #00af00; text-decoration-color: #00af00\">25088</span>)               │               <span style=\"color: #00af00; text-decoration-color: #00af00\">0</span> │\n",
       "├──────────────────────────────────────┼─────────────────────────────┼─────────────────┤\n",
       "│ dense (<span style=\"color: #0087ff; text-decoration-color: #0087ff\">Dense</span>)                        │ (<span style=\"color: #00d7ff; text-decoration-color: #00d7ff\">None</span>, <span style=\"color: #00af00; text-decoration-color: #00af00\">512</span>)                 │      <span style=\"color: #00af00; text-decoration-color: #00af00\">12,845,568</span> │\n",
       "├──────────────────────────────────────┼─────────────────────────────┼─────────────────┤\n",
       "│ dropout (<span style=\"color: #0087ff; text-decoration-color: #0087ff\">Dropout</span>)                    │ (<span style=\"color: #00d7ff; text-decoration-color: #00d7ff\">None</span>, <span style=\"color: #00af00; text-decoration-color: #00af00\">512</span>)                 │               <span style=\"color: #00af00; text-decoration-color: #00af00\">0</span> │\n",
       "├──────────────────────────────────────┼─────────────────────────────┼─────────────────┤\n",
       "│ dense_1 (<span style=\"color: #0087ff; text-decoration-color: #0087ff\">Dense</span>)                      │ (<span style=\"color: #00d7ff; text-decoration-color: #00d7ff\">None</span>, <span style=\"color: #00af00; text-decoration-color: #00af00\">256</span>)                 │         <span style=\"color: #00af00; text-decoration-color: #00af00\">131,328</span> │\n",
       "├──────────────────────────────────────┼─────────────────────────────┼─────────────────┤\n",
       "│ dropout_1 (<span style=\"color: #0087ff; text-decoration-color: #0087ff\">Dropout</span>)                  │ (<span style=\"color: #00d7ff; text-decoration-color: #00d7ff\">None</span>, <span style=\"color: #00af00; text-decoration-color: #00af00\">256</span>)                 │               <span style=\"color: #00af00; text-decoration-color: #00af00\">0</span> │\n",
       "├──────────────────────────────────────┼─────────────────────────────┼─────────────────┤\n",
       "│ dense_2 (<span style=\"color: #0087ff; text-decoration-color: #0087ff\">Dense</span>)                      │ (<span style=\"color: #00d7ff; text-decoration-color: #00d7ff\">None</span>, <span style=\"color: #00af00; text-decoration-color: #00af00\">1</span>)                   │             <span style=\"color: #00af00; text-decoration-color: #00af00\">257</span> │\n",
       "└──────────────────────────────────────┴─────────────────────────────┴─────────────────┘\n",
       "</pre>\n"
      ],
      "text/plain": [
       "┏━━━━━━━━━━━━━━━━━━━━━━━━━━━━━━━━━━━━━━┳━━━━━━━━━━━━━━━━━━━━━━━━━━━━━┳━━━━━━━━━━━━━━━━━┓\n",
       "┃\u001b[1m \u001b[0m\u001b[1mLayer (type)                        \u001b[0m\u001b[1m \u001b[0m┃\u001b[1m \u001b[0m\u001b[1mOutput Shape               \u001b[0m\u001b[1m \u001b[0m┃\u001b[1m \u001b[0m\u001b[1m        Param #\u001b[0m\u001b[1m \u001b[0m┃\n",
       "┡━━━━━━━━━━━━━━━━━━━━━━━━━━━━━━━━━━━━━━╇━━━━━━━━━━━━━━━━━━━━━━━━━━━━━╇━━━━━━━━━━━━━━━━━┩\n",
       "│ conv2d (\u001b[38;5;33mConv2D\u001b[0m)                      │ (\u001b[38;5;45mNone\u001b[0m, \u001b[38;5;34m224\u001b[0m, \u001b[38;5;34m224\u001b[0m, \u001b[38;5;34m32\u001b[0m)        │             \u001b[38;5;34m320\u001b[0m │\n",
       "├──────────────────────────────────────┼─────────────────────────────┼─────────────────┤\n",
       "│ conv2d_1 (\u001b[38;5;33mConv2D\u001b[0m)                    │ (\u001b[38;5;45mNone\u001b[0m, \u001b[38;5;34m224\u001b[0m, \u001b[38;5;34m224\u001b[0m, \u001b[38;5;34m32\u001b[0m)        │           \u001b[38;5;34m9,248\u001b[0m │\n",
       "├──────────────────────────────────────┼─────────────────────────────┼─────────────────┤\n",
       "│ max_pooling2d (\u001b[38;5;33mMaxPooling2D\u001b[0m)         │ (\u001b[38;5;45mNone\u001b[0m, \u001b[38;5;34m112\u001b[0m, \u001b[38;5;34m112\u001b[0m, \u001b[38;5;34m32\u001b[0m)        │               \u001b[38;5;34m0\u001b[0m │\n",
       "├──────────────────────────────────────┼─────────────────────────────┼─────────────────┤\n",
       "│ conv2d_2 (\u001b[38;5;33mConv2D\u001b[0m)                    │ (\u001b[38;5;45mNone\u001b[0m, \u001b[38;5;34m112\u001b[0m, \u001b[38;5;34m112\u001b[0m, \u001b[38;5;34m64\u001b[0m)        │          \u001b[38;5;34m18,496\u001b[0m │\n",
       "├──────────────────────────────────────┼─────────────────────────────┼─────────────────┤\n",
       "│ conv2d_3 (\u001b[38;5;33mConv2D\u001b[0m)                    │ (\u001b[38;5;45mNone\u001b[0m, \u001b[38;5;34m112\u001b[0m, \u001b[38;5;34m112\u001b[0m, \u001b[38;5;34m64\u001b[0m)        │          \u001b[38;5;34m36,928\u001b[0m │\n",
       "├──────────────────────────────────────┼─────────────────────────────┼─────────────────┤\n",
       "│ max_pooling2d_1 (\u001b[38;5;33mMaxPooling2D\u001b[0m)       │ (\u001b[38;5;45mNone\u001b[0m, \u001b[38;5;34m56\u001b[0m, \u001b[38;5;34m56\u001b[0m, \u001b[38;5;34m64\u001b[0m)          │               \u001b[38;5;34m0\u001b[0m │\n",
       "├──────────────────────────────────────┼─────────────────────────────┼─────────────────┤\n",
       "│ conv2d_4 (\u001b[38;5;33mConv2D\u001b[0m)                    │ (\u001b[38;5;45mNone\u001b[0m, \u001b[38;5;34m56\u001b[0m, \u001b[38;5;34m56\u001b[0m, \u001b[38;5;34m128\u001b[0m)         │          \u001b[38;5;34m73,856\u001b[0m │\n",
       "├──────────────────────────────────────┼─────────────────────────────┼─────────────────┤\n",
       "│ conv2d_5 (\u001b[38;5;33mConv2D\u001b[0m)                    │ (\u001b[38;5;45mNone\u001b[0m, \u001b[38;5;34m56\u001b[0m, \u001b[38;5;34m56\u001b[0m, \u001b[38;5;34m128\u001b[0m)         │         \u001b[38;5;34m147,584\u001b[0m │\n",
       "├──────────────────────────────────────┼─────────────────────────────┼─────────────────┤\n",
       "│ max_pooling2d_2 (\u001b[38;5;33mMaxPooling2D\u001b[0m)       │ (\u001b[38;5;45mNone\u001b[0m, \u001b[38;5;34m28\u001b[0m, \u001b[38;5;34m28\u001b[0m, \u001b[38;5;34m128\u001b[0m)         │               \u001b[38;5;34m0\u001b[0m │\n",
       "├──────────────────────────────────────┼─────────────────────────────┼─────────────────┤\n",
       "│ conv2d_6 (\u001b[38;5;33mConv2D\u001b[0m)                    │ (\u001b[38;5;45mNone\u001b[0m, \u001b[38;5;34m28\u001b[0m, \u001b[38;5;34m28\u001b[0m, \u001b[38;5;34m256\u001b[0m)         │         \u001b[38;5;34m295,168\u001b[0m │\n",
       "├──────────────────────────────────────┼─────────────────────────────┼─────────────────┤\n",
       "│ conv2d_7 (\u001b[38;5;33mConv2D\u001b[0m)                    │ (\u001b[38;5;45mNone\u001b[0m, \u001b[38;5;34m28\u001b[0m, \u001b[38;5;34m28\u001b[0m, \u001b[38;5;34m256\u001b[0m)         │         \u001b[38;5;34m590,080\u001b[0m │\n",
       "├──────────────────────────────────────┼─────────────────────────────┼─────────────────┤\n",
       "│ max_pooling2d_3 (\u001b[38;5;33mMaxPooling2D\u001b[0m)       │ (\u001b[38;5;45mNone\u001b[0m, \u001b[38;5;34m14\u001b[0m, \u001b[38;5;34m14\u001b[0m, \u001b[38;5;34m256\u001b[0m)         │               \u001b[38;5;34m0\u001b[0m │\n",
       "├──────────────────────────────────────┼─────────────────────────────┼─────────────────┤\n",
       "│ conv2d_8 (\u001b[38;5;33mConv2D\u001b[0m)                    │ (\u001b[38;5;45mNone\u001b[0m, \u001b[38;5;34m14\u001b[0m, \u001b[38;5;34m14\u001b[0m, \u001b[38;5;34m512\u001b[0m)         │       \u001b[38;5;34m1,180,160\u001b[0m │\n",
       "├──────────────────────────────────────┼─────────────────────────────┼─────────────────┤\n",
       "│ conv2d_9 (\u001b[38;5;33mConv2D\u001b[0m)                    │ (\u001b[38;5;45mNone\u001b[0m, \u001b[38;5;34m14\u001b[0m, \u001b[38;5;34m14\u001b[0m, \u001b[38;5;34m512\u001b[0m)         │       \u001b[38;5;34m2,359,808\u001b[0m │\n",
       "├──────────────────────────────────────┼─────────────────────────────┼─────────────────┤\n",
       "│ max_pooling2d_4 (\u001b[38;5;33mMaxPooling2D\u001b[0m)       │ (\u001b[38;5;45mNone\u001b[0m, \u001b[38;5;34m7\u001b[0m, \u001b[38;5;34m7\u001b[0m, \u001b[38;5;34m512\u001b[0m)           │               \u001b[38;5;34m0\u001b[0m │\n",
       "├──────────────────────────────────────┼─────────────────────────────┼─────────────────┤\n",
       "│ flatten (\u001b[38;5;33mFlatten\u001b[0m)                    │ (\u001b[38;5;45mNone\u001b[0m, \u001b[38;5;34m25088\u001b[0m)               │               \u001b[38;5;34m0\u001b[0m │\n",
       "├──────────────────────────────────────┼─────────────────────────────┼─────────────────┤\n",
       "│ dense (\u001b[38;5;33mDense\u001b[0m)                        │ (\u001b[38;5;45mNone\u001b[0m, \u001b[38;5;34m512\u001b[0m)                 │      \u001b[38;5;34m12,845,568\u001b[0m │\n",
       "├──────────────────────────────────────┼─────────────────────────────┼─────────────────┤\n",
       "│ dropout (\u001b[38;5;33mDropout\u001b[0m)                    │ (\u001b[38;5;45mNone\u001b[0m, \u001b[38;5;34m512\u001b[0m)                 │               \u001b[38;5;34m0\u001b[0m │\n",
       "├──────────────────────────────────────┼─────────────────────────────┼─────────────────┤\n",
       "│ dense_1 (\u001b[38;5;33mDense\u001b[0m)                      │ (\u001b[38;5;45mNone\u001b[0m, \u001b[38;5;34m256\u001b[0m)                 │         \u001b[38;5;34m131,328\u001b[0m │\n",
       "├──────────────────────────────────────┼─────────────────────────────┼─────────────────┤\n",
       "│ dropout_1 (\u001b[38;5;33mDropout\u001b[0m)                  │ (\u001b[38;5;45mNone\u001b[0m, \u001b[38;5;34m256\u001b[0m)                 │               \u001b[38;5;34m0\u001b[0m │\n",
       "├──────────────────────────────────────┼─────────────────────────────┼─────────────────┤\n",
       "│ dense_2 (\u001b[38;5;33mDense\u001b[0m)                      │ (\u001b[38;5;45mNone\u001b[0m, \u001b[38;5;34m1\u001b[0m)                   │             \u001b[38;5;34m257\u001b[0m │\n",
       "└──────────────────────────────────────┴─────────────────────────────┴─────────────────┘\n"
      ]
     },
     "metadata": {},
     "output_type": "display_data"
    },
    {
     "data": {
      "text/html": [
       "<pre style=\"white-space:pre;overflow-x:auto;line-height:normal;font-family:Menlo,'DejaVu Sans Mono',consolas,'Courier New',monospace\"><span style=\"font-weight: bold\"> Total params: </span><span style=\"color: #00af00; text-decoration-color: #00af00\">17,688,801</span> (67.48 MB)\n",
       "</pre>\n"
      ],
      "text/plain": [
       "\u001b[1m Total params: \u001b[0m\u001b[38;5;34m17,688,801\u001b[0m (67.48 MB)\n"
      ]
     },
     "metadata": {},
     "output_type": "display_data"
    },
    {
     "data": {
      "text/html": [
       "<pre style=\"white-space:pre;overflow-x:auto;line-height:normal;font-family:Menlo,'DejaVu Sans Mono',consolas,'Courier New',monospace\"><span style=\"font-weight: bold\"> Trainable params: </span><span style=\"color: #00af00; text-decoration-color: #00af00\">17,688,801</span> (67.48 MB)\n",
       "</pre>\n"
      ],
      "text/plain": [
       "\u001b[1m Trainable params: \u001b[0m\u001b[38;5;34m17,688,801\u001b[0m (67.48 MB)\n"
      ]
     },
     "metadata": {},
     "output_type": "display_data"
    },
    {
     "data": {
      "text/html": [
       "<pre style=\"white-space:pre;overflow-x:auto;line-height:normal;font-family:Menlo,'DejaVu Sans Mono',consolas,'Courier New',monospace\"><span style=\"font-weight: bold\"> Non-trainable params: </span><span style=\"color: #00af00; text-decoration-color: #00af00\">0</span> (0.00 B)\n",
       "</pre>\n"
      ],
      "text/plain": [
       "\u001b[1m Non-trainable params: \u001b[0m\u001b[38;5;34m0\u001b[0m (0.00 B)\n"
      ]
     },
     "metadata": {},
     "output_type": "display_data"
    }
   ],
   "source": [
    "from tensorflow.keras import models, layers\n",
    "from tensorflow.keras.optimizers import Adam\n",
    "\n",
    "def create_model():\n",
    "    model = models.Sequential([\n",
    "        # First Conv Block\n",
    "        layers.Conv2D(32, (3, 3), activation='relu', padding='same', input_shape=(224, 224, 1)),\n",
    "        layers.Conv2D(32, (3, 3), activation='relu', padding='same'),\n",
    "        layers.MaxPooling2D((2, 2)),\n",
    "\n",
    "        # Second Conv Block\n",
    "        layers.Conv2D(64, (3, 3), activation='relu', padding='same'),\n",
    "        layers.Conv2D(64, (3, 3), activation='relu', padding='same'),\n",
    "        layers.MaxPooling2D((2, 2)),\n",
    "\n",
    "        # Third Conv Block\n",
    "        layers.Conv2D(128, (3, 3), activation='relu', padding='same'),\n",
    "        layers.Conv2D(128, (3, 3), activation='relu', padding='same'),\n",
    "        layers.MaxPooling2D((2, 2)),\n",
    "\n",
    "        # Fourth Conv Block\n",
    "        layers.Conv2D(256, (3, 3), activation='relu', padding='same'),\n",
    "        layers.Conv2D(256, (3, 3), activation='relu', padding='same'),\n",
    "        layers.MaxPooling2D((2, 2)),\n",
    "\n",
    "        # Fifth Conv Block\n",
    "        layers.Conv2D(512, (3, 3), activation='relu', padding='same'),\n",
    "        layers.Conv2D(512, (3, 3), activation='relu', padding='same'),\n",
    "        layers.MaxPooling2D((2, 2)),\n",
    "\n",
    "        # Fully Connected Layers\n",
    "        layers.Flatten(),\n",
    "        layers.Dense(512, activation='relu'),\n",
    "        layers.Dropout(0.5),\n",
    "        layers.Dense(256, activation='relu'),\n",
    "        layers.Dropout(0.3),\n",
    "        layers.Dense(1, activation='sigmoid')  # Binary classification (Normal vs PCOS)\n",
    "    ])\n",
    "\n",
    "    # Compile model\n",
    "    model.compile(optimizer=Adam(learning_rate=1e-4), loss='binary_crossentropy', metrics=['accuracy'])\n",
    "    \n",
    "    return model\n",
    "\n",
    "# Create the model\n",
    "model = create_model()\n",
    "\n",
    "# Model summary\n",
    "model.summary()\n"
   ]
  },
  {
   "cell_type": "code",
   "execution_count": 12,
   "id": "03f0c238",
   "metadata": {
    "execution": {
     "iopub.execute_input": "2025-06-20T23:49:35.402474Z",
     "iopub.status.busy": "2025-06-20T23:49:35.402255Z",
     "iopub.status.idle": "2025-06-20T23:53:47.368712Z",
     "shell.execute_reply": "2025-06-20T23:53:47.367812Z"
    },
    "papermill": {
     "duration": 251.973516,
     "end_time": "2025-06-20T23:53:47.370159",
     "exception": false,
     "start_time": "2025-06-20T23:49:35.396643",
     "status": "completed"
    },
    "tags": []
   },
   "outputs": [
    {
     "name": "stdout",
     "output_type": "stream",
     "text": [
      "Epoch 1/20\n"
     ]
    },
    {
     "name": "stderr",
     "output_type": "stream",
     "text": [
      "/usr/local/lib/python3.10/dist-packages/keras/src/trainers/data_adapters/py_dataset_adapter.py:122: UserWarning: Your `PyDataset` class should call `super().__init__(**kwargs)` in its constructor. `**kwargs` can include `workers`, `use_multiprocessing`, `max_queue_size`. Do not pass these arguments to `fit()`, as they will be ignored.\n",
      "  self._warn_if_super_not_called()\n"
     ]
    },
    {
     "name": "stdout",
     "output_type": "stream",
     "text": [
      "\u001b[1m12/12\u001b[0m \u001b[32m━━━━━━━━━━━━━━━━━━━━\u001b[0m\u001b[37m\u001b[0m \u001b[1m67s\u001b[0m 3s/step - accuracy: 0.5729 - loss: 0.6870\n",
      "Epoch 2/20\n",
      "\u001b[1m12/12\u001b[0m \u001b[32m━━━━━━━━━━━━━━━━━━━━\u001b[0m\u001b[37m\u001b[0m \u001b[1m10s\u001b[0m 405ms/step - accuracy: 0.8014 - loss: 0.5133\n",
      "Epoch 3/20\n",
      "\u001b[1m12/12\u001b[0m \u001b[32m━━━━━━━━━━━━━━━━━━━━\u001b[0m\u001b[37m\u001b[0m \u001b[1m10s\u001b[0m 405ms/step - accuracy: 0.8240 - loss: 0.4040\n",
      "Epoch 4/20\n",
      "\u001b[1m12/12\u001b[0m \u001b[32m━━━━━━━━━━━━━━━━━━━━\u001b[0m\u001b[37m\u001b[0m \u001b[1m10s\u001b[0m 400ms/step - accuracy: 0.8860 - loss: 0.2738\n",
      "Epoch 5/20\n",
      "\u001b[1m12/12\u001b[0m \u001b[32m━━━━━━━━━━━━━━━━━━━━\u001b[0m\u001b[37m\u001b[0m \u001b[1m10s\u001b[0m 392ms/step - accuracy: 0.9588 - loss: 0.1218\n",
      "Epoch 6/20\n",
      "\u001b[1m12/12\u001b[0m \u001b[32m━━━━━━━━━━━━━━━━━━━━\u001b[0m\u001b[37m\u001b[0m \u001b[1m10s\u001b[0m 394ms/step - accuracy: 0.9890 - loss: 0.0389\n",
      "Epoch 7/20\n",
      "\u001b[1m12/12\u001b[0m \u001b[32m━━━━━━━━━━━━━━━━━━━━\u001b[0m\u001b[37m\u001b[0m \u001b[1m10s\u001b[0m 389ms/step - accuracy: 0.9959 - loss: 0.0169\n",
      "Epoch 8/20\n",
      "\u001b[1m12/12\u001b[0m \u001b[32m━━━━━━━━━━━━━━━━━━━━\u001b[0m\u001b[37m\u001b[0m \u001b[1m10s\u001b[0m 397ms/step - accuracy: 0.9881 - loss: 0.0339\n",
      "Epoch 9/20\n",
      "\u001b[1m12/12\u001b[0m \u001b[32m━━━━━━━━━━━━━━━━━━━━\u001b[0m\u001b[37m\u001b[0m \u001b[1m10s\u001b[0m 399ms/step - accuracy: 0.9937 - loss: 0.0236\n",
      "Epoch 10/20\n",
      "\u001b[1m12/12\u001b[0m \u001b[32m━━━━━━━━━━━━━━━━━━━━\u001b[0m\u001b[37m\u001b[0m \u001b[1m10s\u001b[0m 405ms/step - accuracy: 0.9995 - loss: 0.0061\n",
      "Epoch 11/20\n",
      "\u001b[1m12/12\u001b[0m \u001b[32m━━━━━━━━━━━━━━━━━━━━\u001b[0m\u001b[37m\u001b[0m \u001b[1m10s\u001b[0m 390ms/step - accuracy: 0.9956 - loss: 0.0084\n",
      "Epoch 12/20\n",
      "\u001b[1m12/12\u001b[0m \u001b[32m━━━━━━━━━━━━━━━━━━━━\u001b[0m\u001b[37m\u001b[0m \u001b[1m10s\u001b[0m 399ms/step - accuracy: 0.9931 - loss: 0.0200\n",
      "Epoch 13/20\n",
      "\u001b[1m12/12\u001b[0m \u001b[32m━━━━━━━━━━━━━━━━━━━━\u001b[0m\u001b[37m\u001b[0m \u001b[1m10s\u001b[0m 397ms/step - accuracy: 0.9952 - loss: 0.0218\n",
      "Epoch 14/20\n",
      "\u001b[1m12/12\u001b[0m \u001b[32m━━━━━━━━━━━━━━━━━━━━\u001b[0m\u001b[37m\u001b[0m \u001b[1m10s\u001b[0m 407ms/step - accuracy: 0.9974 - loss: 0.0099\n",
      "Epoch 15/20\n",
      "\u001b[1m12/12\u001b[0m \u001b[32m━━━━━━━━━━━━━━━━━━━━\u001b[0m\u001b[37m\u001b[0m \u001b[1m10s\u001b[0m 400ms/step - accuracy: 0.9992 - loss: 0.0043\n",
      "Epoch 16/20\n",
      "\u001b[1m12/12\u001b[0m \u001b[32m━━━━━━━━━━━━━━━━━━━━\u001b[0m\u001b[37m\u001b[0m \u001b[1m10s\u001b[0m 399ms/step - accuracy: 1.0000 - loss: 0.0014\n",
      "Epoch 17/20\n",
      "\u001b[1m12/12\u001b[0m \u001b[32m━━━━━━━━━━━━━━━━━━━━\u001b[0m\u001b[37m\u001b[0m \u001b[1m10s\u001b[0m 399ms/step - accuracy: 0.9983 - loss: 0.0043\n",
      "Epoch 18/20\n",
      "\u001b[1m12/12\u001b[0m \u001b[32m━━━━━━━━━━━━━━━━━━━━\u001b[0m\u001b[37m\u001b[0m \u001b[1m10s\u001b[0m 403ms/step - accuracy: 1.0000 - loss: 0.0010\n",
      "Epoch 19/20\n",
      "\u001b[1m12/12\u001b[0m \u001b[32m━━━━━━━━━━━━━━━━━━━━\u001b[0m\u001b[37m\u001b[0m \u001b[1m10s\u001b[0m 399ms/step - accuracy: 0.9996 - loss: 8.6422e-04\n",
      "Epoch 20/20\n",
      "\u001b[1m12/12\u001b[0m \u001b[32m━━━━━━━━━━━━━━━━━━━━\u001b[0m\u001b[37m\u001b[0m \u001b[1m10s\u001b[0m 402ms/step - accuracy: 0.9983 - loss: 0.0043\n"
     ]
    }
   ],
   "source": [
    "model = create_model()\n",
    "\n",
    "# Train model\n",
    "history = model.fit(\n",
    "    train_generator,  \n",
    "    epochs=20,\n",
    "    verbose=1\n",
    ")\n"
   ]
  },
  {
   "cell_type": "code",
   "execution_count": 13,
   "id": "ff2346f1",
   "metadata": {
    "execution": {
     "iopub.execute_input": "2025-06-20T23:53:47.408061Z",
     "iopub.status.busy": "2025-06-20T23:53:47.407433Z",
     "iopub.status.idle": "2025-06-20T23:53:48.556660Z",
     "shell.execute_reply": "2025-06-20T23:53:48.555669Z"
    },
    "papermill": {
     "duration": 1.170007,
     "end_time": "2025-06-20T23:53:48.558743",
     "exception": false,
     "start_time": "2025-06-20T23:53:47.388736",
     "status": "completed"
    },
    "tags": []
   },
   "outputs": [],
   "source": [
    "import matplotlib.pyplot as plt\n",
    "import seaborn as sns\n",
    "\n",
    "from tensorflow.keras.callbacks import EarlyStopping, ModelCheckpoint\n",
    "from sklearn.metrics import classification_report, confusion_matrix"
   ]
  },
  {
   "cell_type": "code",
   "execution_count": 14,
   "id": "e8764ef4",
   "metadata": {
    "execution": {
     "iopub.execute_input": "2025-06-20T23:53:48.611802Z",
     "iopub.status.busy": "2025-06-20T23:53:48.611230Z",
     "iopub.status.idle": "2025-06-20T23:53:48.958974Z",
     "shell.execute_reply": "2025-06-20T23:53:48.958068Z"
    },
    "papermill": {
     "duration": 0.368269,
     "end_time": "2025-06-20T23:53:48.960898",
     "exception": false,
     "start_time": "2025-06-20T23:53:48.592629",
     "status": "completed"
    },
    "tags": []
   },
   "outputs": [
    {
     "data": {
      "image/png": "[encoded data removed]",
      "text/plain": [
       "<Figure size 1000x400 with 2 Axes>"
      ]
     },
     "metadata": {},
     "output_type": "display_data"
    }
   ],
   "source": [
    "\n",
    "# Create a figure with two subplots\n",
    "plt.figure(figsize=(10, 4))\n",
    "\n",
    "# Training Accuracy Plot\n",
    "plt.subplot(1, 2, 1)\n",
    "plt.plot(history.history[\"accuracy\"], label=\"Train Accuracy\", marker='o', color='b')\n",
    "plt.xlabel(\"Epochs\")\n",
    "plt.ylabel(\"Accuracy\")\n",
    "plt.legend()\n",
    "plt.title(\"Training Accuracy\")\n",
    "plt.grid(True)\n",
    "\n",
    "# Training Loss Plot\n",
    "plt.subplot(1, 2, 2)\n",
    "plt.plot(history.history[\"loss\"], label=\"Train Loss\", marker='s', color='r')\n",
    "plt.xlabel(\"Epochs\")\n",
    "plt.ylabel(\"Loss\")\n",
    "plt.legend()\n",
    "plt.title(\"Training Loss\")\n",
    "plt.grid(True)\n",
    "\n",
    "plt.show()\n"
   ]
  },
  {
   "cell_type": "code",
   "execution_count": null,
   "id": "b1ccce60",
   "metadata": {
    "papermill": {
     "duration": 0.018307,
     "end_time": "2025-06-20T23:53:49.007217",
     "exception": false,
     "start_time": "2025-06-20T23:53:48.988910",
     "status": "completed"
    },
    "tags": []
   },
   "outputs": [],
   "source": []
  },
  {
   "cell_type": "code",
   "execution_count": 15,
   "id": "6086b753",
   "metadata": {
    "execution": {
     "iopub.execute_input": "2025-06-20T23:53:49.045839Z",
     "iopub.status.busy": "2025-06-20T23:53:49.045475Z",
     "iopub.status.idle": "2025-06-20T23:54:08.383361Z",
     "shell.execute_reply": "2025-06-20T23:54:08.382399Z"
    },
    "papermill": {
     "duration": 19.35874,
     "end_time": "2025-06-20T23:54:08.385108",
     "exception": false,
     "start_time": "2025-06-20T23:53:49.026368",
     "status": "completed"
    },
    "tags": []
   },
   "outputs": [
    {
     "name": "stderr",
     "output_type": "stream",
     "text": [
      "/usr/local/lib/python3.10/dist-packages/keras/src/trainers/data_adapters/py_dataset_adapter.py:122: UserWarning: Your `PyDataset` class should call `super().__init__(**kwargs)` in its constructor. `**kwargs` can include `workers`, `use_multiprocessing`, `max_queue_size`. Do not pass these arguments to `fit()`, as they will be ignored.\n",
      "  self._warn_if_super_not_called()\n"
     ]
    },
    {
     "name": "stdout",
     "output_type": "stream",
     "text": [
      "\u001b[1m2/2\u001b[0m \u001b[32m━━━━━━━━━━━━━━━━━━━━\u001b[0m\u001b[37m\u001b[0m \u001b[1m17s\u001b[0m 6s/step - accuracy: 1.0000 - loss: 5.2943e-04\n",
      "Test Loss: 0.0004, Test Accuracy: 1.0000\n",
      "\u001b[1m2/2\u001b[0m \u001b[32m━━━━━━━━━━━━━━━━━━━━\u001b[0m\u001b[37m\u001b[0m \u001b[1m2s\u001b[0m 700ms/step\n"
     ]
    }
   ],
   "source": [
    "# Evaluate model teat 1\n",
    "test_loss, test_acc = model.evaluate(test_generator)\n",
    "print(f\"Test Loss: {test_loss:.4f}, Test Accuracy: {test_acc:.4f}\")\n",
    "\n",
    "# Make Predictions\n",
    "y_true = test_generator.classes\n",
    "y_pred_probs = model.predict(test_generator)\n",
    "y_pred = (y_pred_probs > 0.5).astype(int)\n"
   ]
  },
  {
   "cell_type": "code",
   "execution_count": 16,
   "id": "76cd0072",
   "metadata": {
    "execution": {
     "iopub.execute_input": "2025-06-20T23:54:08.424824Z",
     "iopub.status.busy": "2025-06-20T23:54:08.424536Z",
     "iopub.status.idle": "2025-06-20T23:54:08.434920Z",
     "shell.execute_reply": "2025-06-20T23:54:08.434027Z"
    },
    "papermill": {
     "duration": 0.031718,
     "end_time": "2025-06-20T23:54:08.436247",
     "exception": false,
     "start_time": "2025-06-20T23:54:08.404529",
     "status": "completed"
    },
    "tags": []
   },
   "outputs": [
    {
     "name": "stdout",
     "output_type": "stream",
     "text": [
      "Classification Report:\n",
      "               precision    recall  f1-score   support\n",
      "\n",
      "           0       1.00      1.00      1.00       125\n",
      "           1       1.00      1.00      1.00        89\n",
      "\n",
      "    accuracy                           1.00       214\n",
      "   macro avg       1.00      1.00      1.00       214\n",
      "weighted avg       1.00      1.00      1.00       214\n",
      "\n"
     ]
    }
   ],
   "source": [
    "# Classification Report\n",
    "print(\"Classification Report:\\n\", classification_report(y_true, y_pred))"
   ]
  },
  {
   "cell_type": "code",
   "execution_count": 17,
   "id": "37ce6bc9",
   "metadata": {
    "execution": {
     "iopub.execute_input": "2025-06-20T23:54:08.475595Z",
     "iopub.status.busy": "2025-06-20T23:54:08.475306Z",
     "iopub.status.idle": "2025-06-20T23:54:08.646510Z",
     "shell.execute_reply": "2025-06-20T23:54:08.645634Z"
    },
    "papermill": {
     "duration": 0.191966,
     "end_time": "2025-06-20T23:54:08.647845",
     "exception": false,
     "start_time": "2025-06-20T23:54:08.455879",
     "status": "completed"
    },
    "tags": []
   },
   "outputs": [
    {
     "data": {
      "image/png": "[encoded data removed]",
      "text/plain": [
       "<Figure size 600x500 with 2 Axes>"
      ]
     },
     "metadata": {},
     "output_type": "display_data"
    }
   ],
   "source": [
    "# Confusion Matrix\n",
    "cm = confusion_matrix(y_true, y_pred)\n",
    "plt.figure(figsize=(6, 5))\n",
    "sns.heatmap(cm, annot=True, fmt=\"d\", cmap=\"Blues\", xticklabels=['Normal', 'PCOS'], yticklabels=['Normal', 'PCOS'])\n",
    "plt.xlabel(\"Predicted Label\")\n",
    "plt.ylabel(\"True Label\")\n",
    "plt.title(\"Confusion Matrix\")\n",
    "plt.show()"
   ]
  },
  {
   "cell_type": "code",
   "execution_count": 18,
   "id": "15b2d6f5",
   "metadata": {
    "execution": {
     "iopub.execute_input": "2025-06-20T23:54:08.688753Z",
     "iopub.status.busy": "2025-06-20T23:54:08.688451Z",
     "iopub.status.idle": "2025-06-20T23:54:09.597421Z",
     "shell.execute_reply": "2025-06-20T23:54:09.596387Z"
    },
    "papermill": {
     "duration": 0.931108,
     "end_time": "2025-06-20T23:54:09.598851",
     "exception": false,
     "start_time": "2025-06-20T23:54:08.667743",
     "status": "completed"
    },
    "tags": []
   },
   "outputs": [
    {
     "name": "stdout",
     "output_type": "stream",
     "text": [
      "\u001b[1m2/2\u001b[0m \u001b[32m━━━━━━━━━━━━━━━━━━━━\u001b[0m\u001b[37m\u001b[0m \u001b[1m0s\u001b[0m 85ms/step\n",
      "Image 1: Normal\n",
      "Image 2: Normal\n",
      "Image 3: Normal\n",
      "Image 4: Normal\n",
      "Image 5: Normal\n",
      "Image 6: Normal\n",
      "Image 7: Normal\n",
      "Image 8: Normal\n",
      "Image 9: Normal\n",
      "Image 10: Normal\n"
     ]
    }
   ],
   "source": [
    "# Define your thresholds\n",
    "LOW_CONF = 0.4\n",
    "HIGH_CONF = 0.6\n",
    "\n",
    "# Get prediction probabilities\n",
    "y_pred_probs = model.predict(test_generator)\n",
    "\n",
    "# Interpret predictions\n",
    "predictions = []\n",
    "for prob in y_pred_probs:\n",
    "    if prob < LOW_CONF:\n",
    "        predictions.append(\"Normal\")\n",
    "    elif prob > HIGH_CONF:\n",
    "        predictions.append(\"PCOS\")\n",
    "    else:\n",
    "        predictions.append(\"Uncertain or Invalid Input\")\n",
    "\n",
    "# Print example output\n",
    "for i, pred in enumerate(predictions[:10]):\n",
    "    print(f\"Image {i+1}: {pred}\")\n"
   ]
  },
  {
   "cell_type": "code",
   "execution_count": 19,
   "id": "243dfc50",
   "metadata": {
    "execution": {
     "iopub.execute_input": "2025-06-20T23:54:09.639771Z",
     "iopub.status.busy": "2025-06-20T23:54:09.639339Z",
     "iopub.status.idle": "2025-06-20T23:54:09.644104Z",
     "shell.execute_reply": "2025-06-20T23:54:09.643269Z"
    },
    "papermill": {
     "duration": 0.026672,
     "end_time": "2025-06-20T23:54:09.645360",
     "exception": false,
     "start_time": "2025-06-20T23:54:09.618688",
     "status": "completed"
    },
    "tags": []
   },
   "outputs": [],
   "source": [
    "# New predicted class labels (0, 1, or -1 for uncertain)\n",
    "y_pred = []\n",
    "for prob in y_pred_probs:\n",
    "    if prob < LOW_CONF:\n",
    "        y_pred.append(0)  # Normal\n",
    "    elif prob > HIGH_CONF:\n",
    "        y_pred.append(1)  # PCOS\n",
    "    else:\n",
    "        y_pred.append(-1)  # Uncertain or Invalid Input\n"
   ]
  },
  {
   "cell_type": "code",
   "execution_count": 20,
   "id": "a4960b45",
   "metadata": {
    "execution": {
     "iopub.execute_input": "2025-06-20T23:54:09.688612Z",
     "iopub.status.busy": "2025-06-20T23:54:09.688271Z",
     "iopub.status.idle": "2025-06-20T23:54:09.864506Z",
     "shell.execute_reply": "2025-06-20T23:54:09.863608Z"
    },
    "papermill": {
     "duration": 0.201035,
     "end_time": "2025-06-20T23:54:09.865907",
     "exception": false,
     "start_time": "2025-06-20T23:54:09.664872",
     "status": "completed"
    },
    "tags": []
   },
   "outputs": [
    {
     "data": {
      "image/png": "[encoded data removed]",
      "text/plain": [
       "<Figure size 640x480 with 2 Axes>"
      ]
     },
     "metadata": {},
     "output_type": "display_data"
    },
    {
     "name": "stdout",
     "output_type": "stream",
     "text": [
      "              precision    recall  f1-score   support\n",
      "\n",
      "           0       1.00      1.00      1.00       125\n",
      "           1       1.00      1.00      1.00        89\n",
      "\n",
      "    accuracy                           1.00       214\n",
      "   macro avg       1.00      1.00      1.00       214\n",
      "weighted avg       1.00      1.00      1.00       214\n",
      "\n"
     ]
    }
   ],
   "source": [
    "# Convert to NumPy for filtering\n",
    "y_pred = np.array(y_pred)\n",
    "y_true = np.array(y_true)\n",
    "\n",
    "# Keep only confident predictions (not -1)\n",
    "mask = y_pred != -1\n",
    "y_pred_filtered = y_pred[mask]\n",
    "y_true_filtered = y_true[mask]\n",
    "\n",
    "# Confusion Matrix\n",
    "cm = confusion_matrix(y_true_filtered, y_pred_filtered)\n",
    "sns.heatmap(cm, annot=True, fmt=\"d\", cmap=\"Blues\", xticklabels=['Normal', 'PCOS'], yticklabels=['Normal', 'PCOS'])\n",
    "plt.title(\"Confusion Matrix (Confident Predictions Only)\")\n",
    "plt.xlabel(\"Predicted\")\n",
    "plt.ylabel(\"True\")\n",
    "plt.show()\n",
    "\n",
    "# Report\n",
    "print(classification_report(y_true_filtered, y_pred_filtered))\n"
   ]
  },
  {
   "cell_type": "code",
   "execution_count": 21,
   "id": "faef3a75",
   "metadata": {
    "execution": {
     "iopub.execute_input": "2025-06-20T23:54:09.908950Z",
     "iopub.status.busy": "2025-06-20T23:54:09.908651Z",
     "iopub.status.idle": "2025-06-20T23:54:09.913282Z",
     "shell.execute_reply": "2025-06-20T23:54:09.912506Z"
    },
    "papermill": {
     "duration": 0.028282,
     "end_time": "2025-06-20T23:54:09.914535",
     "exception": false,
     "start_time": "2025-06-20T23:54:09.886253",
     "status": "completed"
    },
    "tags": []
   },
   "outputs": [
    {
     "name": "stdout",
     "output_type": "stream",
     "text": [
      "Uncertain/Invalid inputs: 0/214 (0.00%)\n"
     ]
    }
   ],
   "source": [
    "total = len(y_pred)\n",
    "uncertain_count = np.sum(y_pred == -1)\n",
    "print(f\"Uncertain/Invalid inputs: {uncertain_count}/{total} ({100 * uncertain_count / total:.2f}%)\")\n"
   ]
  },
  {
   "cell_type": "code",
   "execution_count": 22,
   "id": "4b075e25",
   "metadata": {
    "execution": {
     "iopub.execute_input": "2025-06-20T23:54:09.955809Z",
     "iopub.status.busy": "2025-06-20T23:54:09.955507Z",
     "iopub.status.idle": "2025-06-20T23:54:10.486890Z",
     "shell.execute_reply": "2025-06-20T23:54:10.486059Z"
    },
    "papermill": {
     "duration": 0.553873,
     "end_time": "2025-06-20T23:54:10.488221",
     "exception": false,
     "start_time": "2025-06-20T23:54:09.934348",
     "status": "completed"
    },
    "tags": []
   },
   "outputs": [
    {
     "name": "stdout",
     "output_type": "stream",
     "text": [
      "Model saved as pcos_model.h5\n"
     ]
    }
   ],
   "source": [
    "# Save the model\n",
    "model.save(\"pcos_model.h5\")\n",
    "print(\"Model saved as pcos_model.h5\")"
   ]
  },
  {
   "cell_type": "code",
   "execution_count": null,
   "id": "577823fe",
   "metadata": {
    "papermill": {
     "duration": 0.019619,
     "end_time": "2025-06-20T23:54:10.528167",
     "exception": false,
     "start_time": "2025-06-20T23:54:10.508548",
     "status": "completed"
    },
    "tags": []
   },
   "outputs": [],
   "source": []
  }
 ],
 "metadata": {
  "kaggle": {
   "accelerator": "gpu",
   "dataSources": [
    {
     "datasetId": 2065225,
     "sourceId": 3426692,
     "sourceType": "datasetVersion"
    },
    {
     "datasetId": 5923488,
     "sourceId": 9689396,
     "sourceType": "datasetVersion"
    }
   ],
   "dockerImageVersionId": 30919,
   "isGpuEnabled": true,
   "isInternetEnabled": true,
   "language": "python",
   "sourceType": "notebook"
  },
  "kernelspec": {
   "display_name": "Python 3",
   "language": "python",
   "name": "python3"
  },
  "language_info": {
   "codemirror_mode": {
    "name": "ipython",
    "version": 3
   },
   "file_extension": ".py",
   "mimetype": "text/x-python",
   "name": "python",
   "nbconvert_exporter": "python",
   "pygments_lexer": "ipython3",
   "version": "3.10.12"
  },
  "papermill": {
   "default_parameters": {},
   "duration": 305.912071,
   "end_time": "2025-06-20T23:54:13.078126",
   "environment_variables": {},
   "exception": null,
   "input_path": "__notebook__.ipynb",
   "output_path": "__notebook__.ipynb",
   "parameters": {},
   "start_time": "2025-06-20T23:49:07.166055",
   "version": "2.6.0"
  }
 },
 "nbformat": 4,
 "nbformat_minor": 5
}
